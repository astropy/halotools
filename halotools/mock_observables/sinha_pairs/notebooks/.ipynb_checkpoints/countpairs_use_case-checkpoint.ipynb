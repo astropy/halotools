{
 "metadata": {
  "name": "",
  "signature": "sha256:a849d2d2cad01ff3f4c85db5b77fd0e0d5f1ecd33d47f5fd0c7231afd518b432"
 },
 "nbformat": 3,
 "nbformat_minor": 0,
 "worksheets": [
  {
   "cells": [
    {
     "cell_type": "markdown",
     "metadata": {},
     "source": [
      "# Basic use case of countpairs function"
     ]
    },
    {
     "cell_type": "markdown",
     "metadata": {},
     "source": [
      "Let's generate some fake data to pass to our countpairs function:"
     ]
    },
    {
     "cell_type": "code",
     "collapsed": false,
     "input": [
      "Npts = 10 # Small for illustrative purposes only. Npts=1.e6 will be more typical of halotools applications. \n",
      "Lbox = 250.0 # Size of the imaginary box our points are contained in\n",
      "points = np.random.uniform(0, 250, Npts*3).reshape(Npts,3)"
     ],
     "language": "python",
     "metadata": {},
     "outputs": [],
     "prompt_number": 68
    },
    {
     "cell_type": "markdown",
     "metadata": {},
     "source": [
      "*points* is a numpy array of random 3d positions, all located within a box of length *Lbox*. Let's have a look at our data and its shape:"
     ]
    },
    {
     "cell_type": "code",
     "collapsed": false,
     "input": [
      "print(\"points array:\")\n",
      "print(points)\n",
      "print(\"\")\n",
      "print(\"Shape of points array:\")\n",
      "print(np.shape(points))"
     ],
     "language": "python",
     "metadata": {},
     "outputs": [
      {
       "output_type": "stream",
       "stream": "stdout",
       "text": [
        "points array:\n",
        "[[ 238.85729643   27.46903977   20.40331376]\n",
        " [  40.74598856   67.78941486  132.34852659]\n",
        " [ 171.68111627   76.35200576   58.08124332]\n",
        " [  39.3606125   220.37011817  199.96217871]\n",
        " [  23.47790808  191.52188651  134.98270115]\n",
        " [ 204.24563908   60.68971315  172.39605107]\n",
        " [ 127.56096792  191.35699369  126.67538412]\n",
        " [ 184.97857494  114.77573815  117.45873297]\n",
        " [ 219.28889009  222.80230013  237.2901882 ]\n",
        " [ 155.42330831  166.83956899   56.30749226]]\n",
        "\n",
        "Shape of points array:\n",
        "(10, 3)\n"
       ]
      }
     ],
     "prompt_number": 69
    },
    {
     "cell_type": "markdown",
     "metadata": {},
     "source": [
      "The form of the question we want to ask Manodeep's code to answer is the following: how many points are there in our dataset whose spatial separation is between *r1* and *r2*? In practice, we will want to ask this question for several different choices of *r1* and *r2*, so it will be convenient to store the information about our separation bins into an array:"
     ]
    },
    {
     "cell_type": "code",
     "collapsed": false,
     "input": [
      "rbins = np.logspace(-1, 1, num=15)"
     ],
     "language": "python",
     "metadata": {},
     "outputs": [],
     "prompt_number": 70
    },
    {
     "cell_type": "markdown",
     "metadata": {},
     "source": [
      "The above line of code generates a numpy array with 15 floats, logarithmically spaced evenly between 0.1 and 10. Let's inspect *rbins* to verify that is the case:"
     ]
    },
    {
     "cell_type": "code",
     "collapsed": false,
     "input": [
      "print(\"rbins array:\")\n",
      "print(rbins)"
     ],
     "language": "python",
     "metadata": {},
     "outputs": [
      {
       "output_type": "stream",
       "stream": "stdout",
       "text": [
        "rbins array:\n",
        "[  0.1          0.13894955   0.19306977   0.26826958   0.37275937\n",
        "   0.51794747   0.71968567   1.           1.38949549   1.93069773\n",
        "   2.6826958    3.72759372   5.17947468   7.19685673  10.        ]\n"
       ]
      }
     ],
     "prompt_number": 71
    },
    {
     "cell_type": "markdown",
     "metadata": {},
     "source": [
      "Manodeep's countpairs function signature is completely explicit about what it needs, but it's got so many arguments that it's inconvenient for typical users. So your wrapper should provide a convenient, pretty face to calls to this function. A call to the C code looks like this:\n",
      "\n",
      "Npairs = countpairs(Nd1, x1, y1, z1, Nd2, x2, y2, z2, xmin, xmax, ymin, ymax, zmin, zmax, autocorr, rpmax, numthreads, nrpbin, rupp)\n",
      "\n",
      "It would be annoying for our users to have to remember the meaning, and correct ordering, of 19 positional arguments every time they want to compute a correlation function. Fortunately, most of these arguments can be automatically generated from our dataset. "
     ]
    },
    {
     "cell_type": "code",
     "collapsed": false,
     "input": [
      "Nd1 = len(points)\n",
      "Nd2 = Nd1\n",
      "x1 = points[:,0]\n",
      "x2 = x1\n",
      "y1 = points[:,1]\n",
      "y2 = y1\n",
      "z1 = points[:,2]\n",
      "z2 = z1\n",
      "xmin=0\n",
      "xmax=Lbox\n",
      "ymin=0\n",
      "ymax=Lbox\n",
      "zmin=0\n",
      "zmax=Lbox\n",
      "autocorr=1 # we only have one set of points, and we are computing its autocorrelation function. \n",
      "rpmax=np.max(rbins)\n",
      "numthreads=1 # Note that numthreads is actually an optional argument of countpairs\n",
      "nrpbin=len(rbins)\n",
      "rupp=rbins"
     ],
     "language": "python",
     "metadata": {},
     "outputs": [],
     "prompt_number": 72
    },
    {
     "cell_type": "markdown",
     "metadata": {},
     "source": [
      "So, the above lines of code derive almost all the countpairs arguments from just two user inputs: *points*, and *rbins*. So that means the wrapper you write pretty much only needs to take *points* and *rbins* as input, a far more convenient API to ask of our users. Here's how that API might look:\n",
      "\n",
      "Npairs = countpairs(points, rbins, Lbox, autocorr)\n",
      "\n",
      "Your wrapper will then derive all the positional arguments from these inputs, as I did above. Our users will never need to know that a function was called with 19 positional arguments. For that matter, they'll never even know a hyper-optimized C library was called using a Cython wrapper; everything our users will see is pure python. "
     ]
    },
    {
     "cell_type": "markdown",
     "metadata": {},
     "source": [
      "The other use case we will want to satisfy is the calculation of a cross-correlation function. In such a case, there are two sets of independent points:"
     ]
    },
    {
     "cell_type": "code",
     "collapsed": false,
     "input": [
      "Npts2 = 7\n",
      "points2 = np.random.uniform(0, Lbox, Npts2*3).reshape(Npts2, 3)"
     ],
     "language": "python",
     "metadata": {},
     "outputs": [],
     "prompt_number": 73
    },
    {
     "cell_type": "markdown",
     "metadata": {},
     "source": [
      "In this case, our call to your wrapper would look like this:\n",
      "\n",
      "Npairs = countpairs(points, points2, rbins, Lbox, 0)"
     ]
    },
    {
     "cell_type": "markdown",
     "metadata": {},
     "source": [
      "Finally, we can do a little better with this API to make it even more convenient for our users. Let's not ask them to specify *autocorr* at all. The code should understand that, if only one set of points is passed, the user wants an auto-correlation, and if two sets of points are passed, the user wants a cross-correlation. So the final statement of the use case of your wrapper is like this:\n",
      "\n",
      "Npairs = countpairs(points, rbins, Lbox, points2=None)\n",
      "\n",
      "Below is an example of how you might write your control flow to handle this:"
     ]
    },
    {
     "cell_type": "code",
     "collapsed": false,
     "input": [
      "if points2==None:\n",
      "    autocorr=1\n",
      "    x2=x1\n",
      "    y2=y1\n",
      "    # etc. \n",
      "else:\n",
      "    autocorr=0\n",
      "    x2=points2[:,0]\n",
      "    # etc. "
     ],
     "language": "python",
     "metadata": {},
     "outputs": [],
     "prompt_number": 74
    }
   ],
   "metadata": {}
  }
 ]
}