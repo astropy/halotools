{
 "metadata": {
  "name": "",
  "signature": "sha256:09550f12bd43803c282990d23eeace32b4be2c8bfdaa1275bc578a91be5db599"
 },
 "nbformat": 3,
 "nbformat_minor": 0,
 "worksheets": [
  {
   "cells": [
    {
     "cell_type": "markdown",
     "metadata": {},
     "source": [
      "# Basic methods used to create toy universes of galaxies\n",
      "The foundation of models of galaxy evolution are numerical simulations of cosmology. The output of such a simulation provides us with a collection of dark matter halos with known positions, velocities, internal structure, etc. The goal of any galaxy evolution model is to provide a mapping between dark matter halos and the galaxies that live in those halos. \n",
      "\n",
      "So for model builders, here's how the information from a simulation comes to us. You have a collection of *Nhalos* halos; the masses of those halos are stored in a numpy array, likewise for other halo properties such as position and ID. That information would normally come as input from a simulation, but let's just create some simple fake data to use for illustrative purposes:"
     ]
    },
    {
     "cell_type": "code",
     "collapsed": false,
     "input": [
      "Nhalos = 10 # Value set for demo purposes. Normally much larger, ~1e6\n",
      "\n",
      "# Draw some random numbers evenly spaced between 10 and 15. \n",
      "halo_mass = np.random.uniform(10,15, Nhalos) # We'll pretend these are the physical masses of our simulated halos \n",
      "halo_ID = np.arange(Nhalos) # Give each halo a unique ID\n",
      "print(\"Halo mass array:\")\n",
      "print(halo_mass)\n",
      "print(\"\")\n",
      "\n",
      "Lbox = 250.0 # Simulation box size \n",
      "# Choose random 3d spatial points for the halos\n",
      "# This will be a useful line of code to test countpairs\n",
      "halo_pos = np.random.uniform(0, Lbox, Nhalos*3).reshape(Nhalos, 3) \n",
      "#halo_pos will be an input to the wrapped countpairs function\n",
      "print(\"Halo position array:\")\n",
      "print(halo_pos)\n",
      "print(\"\")"
     ],
     "language": "python",
     "metadata": {},
     "outputs": [
      {
       "output_type": "stream",
       "stream": "stdout",
       "text": [
        "Halo mass array:\n",
        "[ 13.7443065   12.70204024  13.86292749  11.39804208  10.0213461\n",
        "  14.81615073  11.44481513  13.36798475  11.0657644   10.97998395]\n",
        "\n",
        "Halo position array:\n",
        "[[  99.94384551  156.26722636  166.53440135]\n",
        " [  15.50082325   38.93896645  215.57396771]\n",
        " [ 154.52360975  237.58822514   26.68867534]\n",
        " [ 221.02986116   87.72011517   64.00094165]\n",
        " [   0.77760374  196.49701147  136.2146173 ]\n",
        " [  42.63050085   23.02812523  161.77363286]\n",
        " [ 187.52100037   66.54372446  136.49503174]\n",
        " [  26.47981201  135.80021865  173.56048486]\n",
        " [  41.18629631  195.15620328  167.73087653]\n",
        " [ 139.10526978   55.87382405  223.88825505]]\n",
        "\n"
       ]
      }
     ],
     "prompt_number": 1
    },
    {
     "cell_type": "markdown",
     "metadata": {},
     "source": [
      "Now, the bottom-line thing that any galaxy evolution model must provide you with is a specific recipe to use to sprinkle galaxies into halos. For our purposes, any simple model for how galaxies map onto halos will do. For simplicity, let's say our model is to just randomly populate each halo with either 0, 1, 2, or 3 galaxies. "
     ]
    },
    {
     "cell_type": "code",
     "collapsed": false,
     "input": [
      "galaxy_occupations = np.random.random_integers(0,3,Nhalos)  \n",
      "print(\"galaxy_occupations: \")\n",
      "print(galaxy_occupations)"
     ],
     "language": "python",
     "metadata": {},
     "outputs": [
      {
       "output_type": "stream",
       "stream": "stdout",
       "text": [
        "galaxy_occupations: \n",
        "[1 0 1 1 1 1 2 2 3 3]\n"
       ]
      }
     ],
     "prompt_number": 2
    },
    {
     "cell_type": "markdown",
     "metadata": {},
     "source": [
      "Now we want to throw away halos that are not populated with galaxies, and also have multiplicity for the halos with more than one galaxy. Numpy gives a simple, extremely fast way to do exactly this: np.repeat(A, B)"
     ]
    },
    {
     "cell_type": "code",
     "collapsed": false,
     "input": [
      "halo_mass_of_galaxies = np.repeat(halo_mass, galaxy_occupations , axis=0) # mass of every galaxy's host halo\n",
      "halo_ID_of_galaxies = np.repeat(halo_ID, galaxy_occupations , axis=0) # ID of every galaxy's host halo\n",
      "halo_pos_of_galaxies = np.repeat(halo_pos, galaxy_occupations , axis=0) # 3d position of every galaxy's host halo\n",
      "print(\"halo_ID_of_galaxies:\")\n",
      "print(halo_ID_of_galaxies)\n",
      "print(\"\")\n",
      "print(\"halo_mass_of_galaxies:\")\n",
      "print(halo_mass_of_galaxies)"
     ],
     "language": "python",
     "metadata": {},
     "outputs": [
      {
       "output_type": "stream",
       "stream": "stdout",
       "text": [
        "halo_ID_of_galaxies:\n",
        "[0 2 3 4 5 6 6 7 7 8 8 8 9 9 9]\n",
        "\n",
        "halo_mass_of_galaxies\n",
        "[ 13.7443065   13.86292749  11.39804208  10.0213461   14.81615073\n",
        "  11.44481513  11.44481513  13.36798475  13.36798475  11.0657644\n",
        "  11.0657644   11.0657644   10.97998395  10.97998395  10.97998395]\n"
       ]
      }
     ],
     "prompt_number": 3
    },
    {
     "cell_type": "markdown",
     "metadata": {},
     "source": [
      "Now let's bundle the above arrays into a pandas DataFrame, a nice data structure for large datasets."
     ]
    },
    {
     "cell_type": "code",
     "collapsed": false,
     "input": [
      "data_dict = {'halo_mass_of_galaxies':list(halo_mass_of_galaxies), \n",
      "             'halo_ID_of_galaxies':list(halo_ID_of_galaxies), \n",
      "             'halo_pos_of_galaxies':list(halo_pos_of_galaxies)}\n",
      "import pandas as pd\n",
      "mock = pd.DataFrame(data_dict)\n",
      "# Just for fun, let's sort these galaxies by their halo mass. \n",
      "mock.sort(columns='halo_mass_of_galaxies', inplace=True)"
     ],
     "language": "python",
     "metadata": {},
     "outputs": [],
     "prompt_number": 4
    },
    {
     "cell_type": "markdown",
     "metadata": {},
     "source": [
      "Now we can take a peek at the catalog of mock galaxies we have just made:"
     ]
    },
    {
     "cell_type": "code",
     "collapsed": false,
     "input": [
      "mock"
     ],
     "language": "python",
     "metadata": {},
     "outputs": [
      {
       "html": [
        "<div style=\"max-height:1000px;max-width:1500px;overflow:auto;\">\n",
        "<table border=\"1\" class=\"dataframe\">\n",
        "  <thead>\n",
        "    <tr style=\"text-align: right;\">\n",
        "      <th></th>\n",
        "      <th>halo_ID_of_galaxies</th>\n",
        "      <th>halo_mass_of_galaxies</th>\n",
        "      <th>halo_pos_of_galaxies</th>\n",
        "    </tr>\n",
        "  </thead>\n",
        "  <tbody>\n",
        "    <tr>\n",
        "      <th>3 </th>\n",
        "      <td> 4</td>\n",
        "      <td> 10.021346</td>\n",
        "      <td> [0.777603735091, 196.497011472, 136.214617302]</td>\n",
        "    </tr>\n",
        "    <tr>\n",
        "      <th>12</th>\n",
        "      <td> 9</td>\n",
        "      <td> 10.979984</td>\n",
        "      <td>  [139.105269777, 55.8738240462, 223.888255049]</td>\n",
        "    </tr>\n",
        "    <tr>\n",
        "      <th>13</th>\n",
        "      <td> 9</td>\n",
        "      <td> 10.979984</td>\n",
        "      <td>  [139.105269777, 55.8738240462, 223.888255049]</td>\n",
        "    </tr>\n",
        "    <tr>\n",
        "      <th>14</th>\n",
        "      <td> 9</td>\n",
        "      <td> 10.979984</td>\n",
        "      <td>  [139.105269777, 55.8738240462, 223.888255049]</td>\n",
        "    </tr>\n",
        "    <tr>\n",
        "      <th>9 </th>\n",
        "      <td> 8</td>\n",
        "      <td> 11.065764</td>\n",
        "      <td>  [41.1862963129, 195.156203281, 167.730876534]</td>\n",
        "    </tr>\n",
        "    <tr>\n",
        "      <th>10</th>\n",
        "      <td> 8</td>\n",
        "      <td> 11.065764</td>\n",
        "      <td>  [41.1862963129, 195.156203281, 167.730876534]</td>\n",
        "    </tr>\n",
        "    <tr>\n",
        "      <th>11</th>\n",
        "      <td> 8</td>\n",
        "      <td> 11.065764</td>\n",
        "      <td>  [41.1862963129, 195.156203281, 167.730876534]</td>\n",
        "    </tr>\n",
        "    <tr>\n",
        "      <th>2 </th>\n",
        "      <td> 3</td>\n",
        "      <td> 11.398042</td>\n",
        "      <td>  [221.029861161, 87.7201151718, 64.0009416472]</td>\n",
        "    </tr>\n",
        "    <tr>\n",
        "      <th>5 </th>\n",
        "      <td> 6</td>\n",
        "      <td> 11.444815</td>\n",
        "      <td>  [187.521000371, 66.5437244643, 136.495031742]</td>\n",
        "    </tr>\n",
        "    <tr>\n",
        "      <th>6 </th>\n",
        "      <td> 6</td>\n",
        "      <td> 11.444815</td>\n",
        "      <td>  [187.521000371, 66.5437244643, 136.495031742]</td>\n",
        "    </tr>\n",
        "    <tr>\n",
        "      <th>7 </th>\n",
        "      <td> 7</td>\n",
        "      <td> 13.367985</td>\n",
        "      <td>  [26.4798120126, 135.800218648, 173.560484863]</td>\n",
        "    </tr>\n",
        "    <tr>\n",
        "      <th>8 </th>\n",
        "      <td> 7</td>\n",
        "      <td> 13.367985</td>\n",
        "      <td>  [26.4798120126, 135.800218648, 173.560484863]</td>\n",
        "    </tr>\n",
        "    <tr>\n",
        "      <th>0 </th>\n",
        "      <td> 0</td>\n",
        "      <td> 13.744306</td>\n",
        "      <td>  [99.9438455148, 156.267226362, 166.534401351]</td>\n",
        "    </tr>\n",
        "    <tr>\n",
        "      <th>1 </th>\n",
        "      <td> 2</td>\n",
        "      <td> 13.862927</td>\n",
        "      <td>  [154.523609752, 237.588225144, 26.6886753374]</td>\n",
        "    </tr>\n",
        "    <tr>\n",
        "      <th>4 </th>\n",
        "      <td> 5</td>\n",
        "      <td> 14.816151</td>\n",
        "      <td>  [42.6305008518, 23.0281252263, 161.773632862]</td>\n",
        "    </tr>\n",
        "  </tbody>\n",
        "</table>\n",
        "</div>"
       ],
       "metadata": {},
       "output_type": "pyout",
       "prompt_number": 5,
       "text": [
        "    halo_ID_of_galaxies  halo_mass_of_galaxies  \\\n",
        "3                     4              10.021346   \n",
        "12                    9              10.979984   \n",
        "13                    9              10.979984   \n",
        "14                    9              10.979984   \n",
        "9                     8              11.065764   \n",
        "10                    8              11.065764   \n",
        "11                    8              11.065764   \n",
        "2                     3              11.398042   \n",
        "5                     6              11.444815   \n",
        "6                     6              11.444815   \n",
        "7                     7              13.367985   \n",
        "8                     7              13.367985   \n",
        "0                     0              13.744306   \n",
        "1                     2              13.862927   \n",
        "4                     5              14.816151   \n",
        "\n",
        "                              halo_pos_of_galaxies  \n",
        "3   [0.777603735091, 196.497011472, 136.214617302]  \n",
        "12   [139.105269777, 55.8738240462, 223.888255049]  \n",
        "13   [139.105269777, 55.8738240462, 223.888255049]  \n",
        "14   [139.105269777, 55.8738240462, 223.888255049]  \n",
        "9    [41.1862963129, 195.156203281, 167.730876534]  \n",
        "10   [41.1862963129, 195.156203281, 167.730876534]  \n",
        "11   [41.1862963129, 195.156203281, 167.730876534]  \n",
        "2    [221.029861161, 87.7201151718, 64.0009416472]  \n",
        "5    [187.521000371, 66.5437244643, 136.495031742]  \n",
        "6    [187.521000371, 66.5437244643, 136.495031742]  \n",
        "7    [26.4798120126, 135.800218648, 173.560484863]  \n",
        "8    [26.4798120126, 135.800218648, 173.560484863]  \n",
        "0    [99.9438455148, 156.267226362, 166.534401351]  \n",
        "1    [154.523609752, 237.588225144, 26.6886753374]  \n",
        "4    [42.6305008518, 23.0281252263, 161.773632862]  "
       ]
      }
     ],
     "prompt_number": 5
    },
    {
     "cell_type": "markdown",
     "metadata": {},
     "source": [
      "That's pretty much all of the short story. You now hold a mock in your hands, with a few simple properties attached to each galaxy. The statistical distribuions of a mock can be compared against the corresponding astronomical measurements of those observable statistics, allowing us to test how much our model looks like the real world.  "
     ]
    },
    {
     "cell_type": "code",
     "collapsed": false,
     "input": [],
     "language": "python",
     "metadata": {},
     "outputs": [],
     "prompt_number": 5
    }
   ],
   "metadata": {}
  }
 ]
}