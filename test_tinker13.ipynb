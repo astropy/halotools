{
 "metadata": {
  "name": "",
  "signature": "sha256:84733fc6d80ac1d5151752df2f204044492437e4e2ca1f95add7ccdc4385b2a5"
 },
 "nbformat": 3,
 "nbformat_minor": 0,
 "worksheets": [
  {
   "cells": [
    {
     "cell_type": "code",
     "collapsed": false,
     "input": [
      "%matplotlib inline\n",
      "from halotools.empirical_models.preloaded_models import Tinker13, Leauthaud11\n",
      "from halotools.empirical_models.tinker13 import Tinker13Cens\n",
      "jeremy = Tinker13()\n",
      "jeremy_cens = Tinker13Cens()\n",
      "alexie = Leauthaud11()"
     ],
     "language": "python",
     "metadata": {},
     "outputs": [],
     "prompt_number": 2
    },
    {
     "cell_type": "code",
     "collapsed": false,
     "input": [
      "mass = np.logspace(10, 15, 100)\n",
      "ncen_alexie = alexie.mean_occupation_centrals(prim_haloprop = mass)\n",
      "\n",
      "ncen_active_jeremy1 = jeremy.mean_occupation_centrals(prim_haloprop = mass, sfr_designation='active')\n",
      "ncen_quiescent_jeremy1 = jeremy.mean_occupation_centrals(prim_haloprop = mass, sfr_designation='quiescent')\n",
      "\n",
      "ncen_active_jeremy2 = jeremy_cens.mean_occupation(prim_haloprop = mass, sfr_designation='active')\n",
      "ncen_quiescent_jeremy2 = jeremy_cens.mean_occupation(prim_haloprop = mass, sfr_designation='quiescent')\n",
      "\n",
      "ncen_active_jeremy3 = jeremy_cens.mean_occupation_active(prim_haloprop = mass)\n",
      "ncen_quiescent_jeremy3 = jeremy_cens.mean_occupation_quiescent(prim_haloprop = mass)\n"
     ],
     "language": "python",
     "metadata": {},
     "outputs": [],
     "prompt_number": 3
    },
    {
     "cell_type": "code",
     "collapsed": false,
     "input": [
      "plt.plot(mass, ncen_alexie, color='k')\n",
      "\n",
      "# plt.plot(mass, ncen_active_jeremy1, '--', color='blue')\n",
      "\n",
      "# plt.plot(mass, ncen_active_jeremy1, color='blue')\n",
      "# plt.plot(mass, ncen_quiescent_jeremy1, color='red')\n",
      "\n",
      "plt.plot(mass, ncen_active_jeremy3, color='blue', linewidth=2)\n",
      "\n",
      "plt.plot(mass, ncen_quiescent_jeremy3, color='red', linewidth=2)\n",
      "plt.plot(mass, ncen_quiescent_jeremy2, '--', color='orange', linewidth=2)\n",
      "\n",
      "plt.plot(mass, ncen_active_jeremy2, '--', color='cyan', linewidth=2)\n",
      "\n",
      "plt.loglog()\n",
      "plt.xlim(xmin = 1e11, xmax=1e14)\n",
      "plt.ylim(ymin = 1e-3, ymax=2)"
     ],
     "language": "python",
     "metadata": {},
     "outputs": [
      {
       "metadata": {},
       "output_type": "pyout",
       "prompt_number": 4,
       "text": [
        "(0.001, 2)"
       ]
      },
      {
       "metadata": {},
       "output_type": "display_data",
       "png": "[encoded data removed]",
       "text": [
        "<matplotlib.figure.Figure at 0x109b48550>"
       ]
      }
     ],
     "prompt_number": 4
    },
    {
     "cell_type": "code",
     "collapsed": false,
     "input": [
      "print ncen_quiescent_jeremy1.max()\n",
      "print ncen_active_jeremy1.max()"
     ],
     "language": "python",
     "metadata": {},
     "outputs": [
      {
       "output_type": "stream",
       "stream": "stdout",
       "text": [
        "0.999999996103\n",
        "0.543838303803\n"
       ]
      }
     ],
     "prompt_number": 5
    },
    {
     "cell_type": "code",
     "collapsed": false,
     "input": [
      "rf = jeremy_cens.mean_quiescent_fraction(prim_haloprop = mass)"
     ],
     "language": "python",
     "metadata": {},
     "outputs": [],
     "prompt_number": 6
    },
    {
     "cell_type": "code",
     "collapsed": false,
     "input": [
      "print(rf.min(), rf.max(), rf.mean())"
     ],
     "language": "python",
     "metadata": {},
     "outputs": [
      {
       "output_type": "stream",
       "stream": "stdout",
       "text": [
        "(0.0, 1.0, 0.55680488547723028)\n"
       ]
      }
     ],
     "prompt_number": 7
    },
    {
     "cell_type": "code",
     "collapsed": false,
     "input": [],
     "language": "python",
     "metadata": {},
     "outputs": [],
     "prompt_number": 7
    },
    {
     "cell_type": "code",
     "collapsed": false,
     "input": [
      "jeremy.populate_mock()"
     ],
     "language": "python",
     "metadata": {},
     "outputs": [
      {
       "output_type": "stream",
       "stream": "stdout",
       "text": [
        "\n",
        "...Building lookup tables for the NFWPhaseSpace radial profile.\n",
        "    (This will take about 0 seconds, and only needs to be done once)"
       ]
      },
      {
       "output_type": "stream",
       "stream": "stdout",
       "text": [
        "\n",
        "\n",
        "...Building lookup tables for the NFWPhaseSpace radial profile."
       ]
      },
      {
       "output_type": "stream",
       "stream": "stdout",
       "text": [
        "\n",
        "    (This will take about 0 seconds, and only needs to be done once)"
       ]
      },
      {
       "output_type": "stream",
       "stream": "stdout",
       "text": [
        "\n"
       ]
      }
     ],
     "prompt_number": 8
    },
    {
     "cell_type": "code",
     "collapsed": false,
     "input": [
      "jeremy.mock.satellite_fraction"
     ],
     "language": "python",
     "metadata": {},
     "outputs": [
      {
       "metadata": {},
       "output_type": "pyout",
       "prompt_number": 9,
       "text": [
        "0.33366784596543747"
       ]
      }
     ],
     "prompt_number": 9
    },
    {
     "cell_type": "code",
     "collapsed": false,
     "input": [
      "alexie.populate_mock()"
     ],
     "language": "python",
     "metadata": {},
     "outputs": [
      {
       "output_type": "stream",
       "stream": "stdout",
       "text": [
        "\n",
        "...Building lookup tables for the NFWPhaseSpace radial profile.\n",
        "    (This will take about 1 seconds, and only needs to be done once)"
       ]
      },
      {
       "output_type": "stream",
       "stream": "stdout",
       "text": [
        "\n"
       ]
      }
     ],
     "prompt_number": 10
    },
    {
     "cell_type": "code",
     "collapsed": false,
     "input": [
      "alexie.mock.satellite_fraction"
     ],
     "language": "python",
     "metadata": {},
     "outputs": [
      {
       "metadata": {},
       "output_type": "pyout",
       "prompt_number": 11,
       "text": [
        "0.2840454428660573"
       ]
      }
     ],
     "prompt_number": 11
    },
    {
     "cell_type": "code",
     "collapsed": false,
     "input": [
      "g = jeremy.mock.galaxy_table"
     ],
     "language": "python",
     "metadata": {},
     "outputs": [],
     "prompt_number": 12
    },
    {
     "cell_type": "code",
     "collapsed": false,
     "input": [
      "redmask = g['sfr_designation'] == 'quiescent'"
     ],
     "language": "python",
     "metadata": {},
     "outputs": [],
     "prompt_number": 13
    },
    {
     "cell_type": "code",
     "collapsed": false,
     "input": [
      "reds = g[redmask]\n",
      "blues = g[~redmask]"
     ],
     "language": "python",
     "metadata": {},
     "outputs": [],
     "prompt_number": 14
    },
    {
     "cell_type": "code",
     "collapsed": false,
     "input": [
      "redsats = reds['gal_type'] == 'quiescent_satellites'\n",
      "print(len(reds[redsats])/float(len(reds)))"
     ],
     "language": "python",
     "metadata": {},
     "outputs": [
      {
       "output_type": "stream",
       "stream": "stdout",
       "text": [
        "0.326750257521\n"
       ]
      }
     ],
     "prompt_number": 15
    },
    {
     "cell_type": "code",
     "collapsed": false,
     "input": [
      "bluesats = blues['gal_type'] == 'active_satellites'\n",
      "print(len(blues[bluesats])/float(len(blues)))"
     ],
     "language": "python",
     "metadata": {},
     "outputs": [
      {
       "output_type": "stream",
       "stream": "stdout",
       "text": [
        "0.340024152224\n"
       ]
      }
     ],
     "prompt_number": 16
    },
    {
     "cell_type": "code",
     "collapsed": false,
     "input": [
      "len(g)"
     ],
     "language": "python",
     "metadata": {},
     "outputs": [
      {
       "metadata": {},
       "output_type": "pyout",
       "prompt_number": 17,
       "text": [
        "58792"
       ]
      }
     ],
     "prompt_number": 17
    },
    {
     "cell_type": "code",
     "collapsed": false,
     "input": [
      "len(alexie.mock.galaxy_table)"
     ],
     "language": "python",
     "metadata": {},
     "outputs": [
      {
       "metadata": {},
       "output_type": "pyout",
       "prompt_number": 18,
       "text": [
        "108972"
       ]
      }
     ],
     "prompt_number": 18
    },
    {
     "cell_type": "code",
     "collapsed": false,
     "input": [
      "print(ncen_active_jeremy2.mean())"
     ],
     "language": "python",
     "metadata": {},
     "outputs": [
      {
       "output_type": "stream",
       "stream": "stdout",
       "text": [
        "0.177189812547\n"
       ]
      }
     ],
     "prompt_number": 19
    },
    {
     "cell_type": "code",
     "collapsed": false,
     "input": [
      "type('abc') is str"
     ],
     "language": "python",
     "metadata": {},
     "outputs": [
      {
       "metadata": {},
       "output_type": "pyout",
       "prompt_number": 27,
       "text": [
        "True"
       ]
      }
     ],
     "prompt_number": 27
    },
    {
     "cell_type": "code",
     "collapsed": false,
     "input": [
      "#jeremy.param_dict"
     ],
     "language": "python",
     "metadata": {},
     "outputs": [],
     "prompt_number": 1
    },
    {
     "cell_type": "code",
     "collapsed": false,
     "input": [
      "jeremy.mock.number_density"
     ],
     "language": "python",
     "metadata": {},
     "outputs": [
      {
       "metadata": {},
       "output_type": "pyout",
       "prompt_number": 20,
       "text": [
        "0.003762688"
       ]
      }
     ],
     "prompt_number": 20
    },
    {
     "cell_type": "code",
     "collapsed": false,
     "input": [],
     "language": "python",
     "metadata": {},
     "outputs": []
    }
   ],
   "metadata": {}
  }
 ]
}