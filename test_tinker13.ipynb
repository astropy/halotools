{
 "metadata": {
  "name": "",
  "signature": "sha256:3e93aa4797ba498455cddadca73dc894ea6d0e288f0188d6e3d4fd170c7ddec7"
 },
 "nbformat": 3,
 "nbformat_minor": 0,
 "worksheets": [
  {
   "cells": [
    {
     "cell_type": "code",
     "collapsed": false,
     "input": [
      "%matplotlib inline\n",
      "from halotools.empirical_models.preloaded_models import Tinker13, Leauthaud11\n",
      "jeremy = Tinker13()\n",
      "alexie = Leauthaud11()"
     ],
     "language": "python",
     "metadata": {},
     "outputs": [],
     "prompt_number": 1
    },
    {
     "cell_type": "code",
     "collapsed": false,
     "input": [
      "mass = np.logspace(10, 15, 100)\n",
      "ncen_alexie = alexie.mean_occupation_centrals(prim_haloprop = mass)\n",
      "ncen_active_jeremy = jeremy.mean_occupation_centrals(prim_haloprop = mass, sfr_designation='active')\n",
      "ncen_quiescent_jeremy = jeremy.mean_occupation_centrals(prim_haloprop = mass, sfr_designation='quiescent')"
     ],
     "language": "python",
     "metadata": {},
     "outputs": [
      {
       "output_type": "stream",
       "stream": "stdout",
       "text": [
        "testing\n",
        "testing\n"
       ]
      }
     ],
     "prompt_number": 2
    },
    {
     "cell_type": "code",
     "collapsed": false,
     "input": [
      "plt.plot(mass, ncen_alexie, color='k')\n",
      "plt.plot(mass, ncen_active_jeremy, color='blue')\n",
      "plt.plot(mass, ncen_quiescent_jeremy, color='red')\n",
      "\n",
      "plt.loglog()\n",
      "plt.xlim(xmin = 1e11, xmax=1e13)\n",
      "plt.ylim(ymin = 1e-3, ymax=2)"
     ],
     "language": "python",
     "metadata": {},
     "outputs": [
      {
       "metadata": {},
       "output_type": "pyout",
       "prompt_number": 7,
       "text": [
        "(0.001, 2)"
       ]
      },
      {
       "metadata": {},
       "output_type": "display_data",
       "png": "[encoded data removed]",
       "text": [
        "<matplotlib.figure.Figure at 0x10a4e81d0>"
       ]
      }
     ],
     "prompt_number": 7
    },
    {
     "cell_type": "code",
     "collapsed": false,
     "input": [
      "print ncen_quiescent_jeremy.max()"
     ],
     "language": "python",
     "metadata": {},
     "outputs": [
      {
       "output_type": "stream",
       "stream": "stdout",
       "text": [
        "0.0\n"
       ]
      }
     ],
     "prompt_number": 10
    },
    {
     "cell_type": "code",
     "collapsed": false,
     "input": [
      "ncen_quiescent_jeremy = jeremy.mean_occupation_centrals(prim_haloprop = mass)"
     ],
     "language": "python",
     "metadata": {},
     "outputs": [
      {
       "ename": "HalotoolsError",
       "evalue": "If not passing a ``halo_table`` keyword argument to the mean_occupation method,\nyou must pass both ``prim_haloprop`` and ``sfr_designation`` keyword arguments",
       "output_type": "pyerr",
       "traceback": [
        "\u001b[0;31m---------------------------------------------------------------------------\u001b[0m\n\u001b[0;31mHalotoolsError\u001b[0m                            Traceback (most recent call last)",
        "\u001b[0;32m<ipython-input-3-89d599aff738>\u001b[0m in \u001b[0;36m<module>\u001b[0;34m()\u001b[0m\n\u001b[0;32m----> 1\u001b[0;31m \u001b[0mncen_quiescent_jeremy\u001b[0m \u001b[0;34m=\u001b[0m \u001b[0mjeremy\u001b[0m\u001b[0;34m.\u001b[0m\u001b[0mmean_occupation_centrals\u001b[0m\u001b[0;34m(\u001b[0m\u001b[0mprim_haloprop\u001b[0m \u001b[0;34m=\u001b[0m \u001b[0mmass\u001b[0m\u001b[0;34m)\u001b[0m\u001b[0;34m\u001b[0m\u001b[0m\n\u001b[0m",
        "\u001b[0;32m/Users/aphearin/work/repositories/python/halotools/halotools/empirical_models/model_factories.pyc\u001b[0m in \u001b[0;36mdecorated_func\u001b[0;34m(*args, **kwargs)\u001b[0m\n\u001b[1;32m    865\u001b[0m \u001b[0;34m\u001b[0m\u001b[0m\n\u001b[1;32m    866\u001b[0m             \u001b[0mfunc\u001b[0m \u001b[0;34m=\u001b[0m \u001b[0mgetattr\u001b[0m\u001b[0;34m(\u001b[0m\u001b[0mcomponent_model\u001b[0m\u001b[0;34m,\u001b[0m \u001b[0mfunc_name\u001b[0m\u001b[0;34m)\u001b[0m\u001b[0;34m\u001b[0m\u001b[0m\n\u001b[0;32m--> 867\u001b[0;31m             \u001b[0;32mreturn\u001b[0m \u001b[0mfunc\u001b[0m\u001b[0;34m(\u001b[0m\u001b[0;34m*\u001b[0m\u001b[0margs\u001b[0m\u001b[0;34m,\u001b[0m \u001b[0;34m**\u001b[0m\u001b[0mkwargs\u001b[0m\u001b[0;34m)\u001b[0m\u001b[0;34m\u001b[0m\u001b[0m\n\u001b[0m\u001b[1;32m    868\u001b[0m \u001b[0;34m\u001b[0m\u001b[0m\n\u001b[1;32m    869\u001b[0m         \u001b[0;32mreturn\u001b[0m \u001b[0mdecorated_func\u001b[0m\u001b[0;34m\u001b[0m\u001b[0m\n",
        "\u001b[0;32m/Users/aphearin/work/repositories/python/halotools/halotools/empirical_models/tinker13.py\u001b[0m in \u001b[0;36mmean_occupation\u001b[0;34m(self, **kwargs)\u001b[0m\n\u001b[1;32m    201\u001b[0m                 msg = (\"If not passing a ``halo_table`` keyword argument to the mean_occupation method,\\n\"\n\u001b[1;32m    202\u001b[0m                     \"you must pass both ``prim_haloprop`` and ``sfr_designation`` keyword arguments\")\n\u001b[0;32m--> 203\u001b[0;31m                 \u001b[0;32mraise\u001b[0m \u001b[0mHalotoolsError\u001b[0m\u001b[0;34m(\u001b[0m\u001b[0mmsg\u001b[0m\u001b[0;34m)\u001b[0m\u001b[0;34m\u001b[0m\u001b[0m\n\u001b[0m\u001b[1;32m    204\u001b[0m \u001b[0;34m\u001b[0m\u001b[0m\n\u001b[1;32m    205\u001b[0m         \u001b[0mresult\u001b[0m \u001b[0;34m=\u001b[0m \u001b[0mnp\u001b[0m\u001b[0;34m.\u001b[0m\u001b[0mzeros\u001b[0m\u001b[0;34m(\u001b[0m\u001b[0mcustom_len\u001b[0m\u001b[0;34m(\u001b[0m\u001b[0mprim_haloprop\u001b[0m\u001b[0;34m)\u001b[0m\u001b[0;34m)\u001b[0m\u001b[0;34m\u001b[0m\u001b[0m\n",
        "\u001b[0;31mHalotoolsError\u001b[0m: If not passing a ``halo_table`` keyword argument to the mean_occupation method,\nyou must pass both ``prim_haloprop`` and ``sfr_designation`` keyword arguments"
       ]
      }
     ],
     "prompt_number": 3
    },
    {
     "cell_type": "code",
     "collapsed": false,
     "input": [],
     "language": "python",
     "metadata": {},
     "outputs": []
    }
   ],
   "metadata": {}
  }
 ]
}