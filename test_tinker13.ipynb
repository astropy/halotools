{
 "metadata": {
  "name": "",
  "signature": "sha256:5a9607e97f4397ab0ecb8a661a631c5bc1649d2fd7dd1869284e60d04ddf4821"
 },
 "nbformat": 3,
 "nbformat_minor": 0,
 "worksheets": [
  {
   "cells": [
    {
     "cell_type": "code",
     "collapsed": false,
     "input": [
      "%matplotlib inline\n",
      "from halotools.empirical_models.preloaded_models import Tinker13, Leauthaud11\n",
      "from halotools.empirical_models.tinker13 import Tinker13Cens\n",
      "jeremy = Tinker13()\n",
      "jeremy_cens = Tinker13Cens()\n",
      "alexie = Leauthaud11()"
     ],
     "language": "python",
     "metadata": {},
     "outputs": [],
     "prompt_number": 1
    },
    {
     "cell_type": "code",
     "collapsed": false,
     "input": [
      "mass = np.logspace(10, 15, 100)\n",
      "ncen_alexie = alexie.mean_occupation_centrals(prim_haloprop = mass)\n",
      "\n",
      "ncen_active_jeremy1 = jeremy.mean_occupation_centrals(prim_haloprop = mass, sfr_designation='active')\n",
      "ncen_quiescent_jeremy1 = jeremy.mean_occupation_centrals(prim_haloprop = mass, sfr_designation='quiescent')\n",
      "\n",
      "ncen_active_jeremy2 = jeremy_cens.mean_occupation(prim_haloprop = mass, sfr_designation='active')\n",
      "ncen_quiescent_jeremy2 = jeremy_cens.mean_occupation(prim_haloprop = mass, sfr_designation='quiescent')\n",
      "\n",
      "ncen_active_jeremy3 = jeremy_cens.mean_occupation_active(prim_haloprop = mass)\n",
      "ncen_quiescent_jeremy3 = jeremy_cens.mean_occupation_quiescent(prim_haloprop = mass)\n"
     ],
     "language": "python",
     "metadata": {},
     "outputs": [],
     "prompt_number": 2
    },
    {
     "cell_type": "code",
     "collapsed": false,
     "input": [
      "plt.plot(mass, ncen_alexie, color='k')\n",
      "\n",
      "# plt.plot(mass, ncen_active_jeremy1, '--', color='blue')\n",
      "\n",
      "# plt.plot(mass, ncen_active_jeremy1, color='blue')\n",
      "# plt.plot(mass, ncen_quiescent_jeremy1, color='red')\n",
      "\n",
      "plt.plot(mass, ncen_active_jeremy3, color='blue', linewidth=2)\n",
      "\n",
      "plt.plot(mass, ncen_quiescent_jeremy3, color='red', linewidth=2)\n",
      "plt.plot(mass, ncen_quiescent_jeremy2, '--', color='orange', linewidth=2)\n",
      "\n",
      "plt.plot(mass, ncen_active_jeremy2, '--', color='cyan', linewidth=2)\n",
      "\n",
      "plt.loglog()\n",
      "plt.xlim(xmin = 1e11, xmax=1e14)\n",
      "plt.ylim(ymin = 1e-3, ymax=2)"
     ],
     "language": "python",
     "metadata": {},
     "outputs": [
      {
       "metadata": {},
       "output_type": "pyout",
       "prompt_number": 3,
       "text": [
        "(0.001, 2)"
       ]
      },
      {
       "metadata": {},
       "output_type": "display_data",
       "png": "[encoded data removed]",
       "text": [
        "<matplotlib.figure.Figure at 0x10a4a5390>"
       ]
      }
     ],
     "prompt_number": 3
    },
    {
     "cell_type": "code",
     "collapsed": false,
     "input": [
      "print ncen_quiescent_jeremy1.max()\n",
      "print ncen_active_jeremy1.max()"
     ],
     "language": "python",
     "metadata": {},
     "outputs": [
      {
       "output_type": "stream",
       "stream": "stdout",
       "text": [
        "0.999999996103\n",
        "0.613204549428\n"
       ]
      }
     ],
     "prompt_number": 4
    },
    {
     "cell_type": "code",
     "collapsed": false,
     "input": [
      "rf = jeremy_cens.mean_quiescent_fraction(prim_haloprop = mass)"
     ],
     "language": "python",
     "metadata": {},
     "outputs": [],
     "prompt_number": 6
    },
    {
     "cell_type": "code",
     "collapsed": false,
     "input": [
      "print(rf.min(), rf.max(), rf.mean())"
     ],
     "language": "python",
     "metadata": {},
     "outputs": [
      {
       "output_type": "stream",
       "stream": "stdout",
       "text": [
        "(0.0, 1.0, 0.55680488547723028)\n"
       ]
      }
     ],
     "prompt_number": 7
    },
    {
     "cell_type": "code",
     "collapsed": false,
     "input": [],
     "language": "python",
     "metadata": {},
     "outputs": [],
     "prompt_number": 7
    },
    {
     "cell_type": "code",
     "collapsed": false,
     "input": [
      "jeremy.populate_mock()"
     ],
     "language": "python",
     "metadata": {},
     "outputs": [
      {
       "output_type": "stream",
       "stream": "stdout",
       "text": [
        "\n",
        "...Building lookup tables for the NFWPhaseSpace radial profile.\n",
        "    (This will take about 0 seconds, and only needs to be done once)"
       ]
      },
      {
       "output_type": "stream",
       "stream": "stdout",
       "text": [
        "\n",
        "\n",
        "...Building lookup tables for the NFWPhaseSpace radial profile."
       ]
      },
      {
       "output_type": "stream",
       "stream": "stdout",
       "text": [
        "\n",
        "    (This will take about 0 seconds, and only needs to be done once)"
       ]
      },
      {
       "output_type": "stream",
       "stream": "stdout",
       "text": [
        "\n"
       ]
      }
     ],
     "prompt_number": 4
    },
    {
     "cell_type": "code",
     "collapsed": false,
     "input": [
      "jeremy.mock.satellite_fraction"
     ],
     "language": "python",
     "metadata": {},
     "outputs": [
      {
       "metadata": {},
       "output_type": "pyout",
       "prompt_number": 5,
       "text": [
        "0.3314858490566038"
       ]
      }
     ],
     "prompt_number": 5
    },
    {
     "cell_type": "code",
     "collapsed": false,
     "input": [
      "alexie.populate_mock()"
     ],
     "language": "python",
     "metadata": {},
     "outputs": [
      {
       "output_type": "stream",
       "stream": "stdout",
       "text": [
        "\n",
        "...Building lookup tables for the NFWPhaseSpace radial profile.\n",
        "    (This will take about 1 seconds, and only needs to be done once)"
       ]
      },
      {
       "output_type": "stream",
       "stream": "stdout",
       "text": [
        "\n"
       ]
      }
     ],
     "prompt_number": 6
    },
    {
     "cell_type": "code",
     "collapsed": false,
     "input": [
      "alexie.mock.satellite_fraction"
     ],
     "language": "python",
     "metadata": {},
     "outputs": [
      {
       "metadata": {},
       "output_type": "pyout",
       "prompt_number": 7,
       "text": [
        "0.2807459189403768"
       ]
      }
     ],
     "prompt_number": 7
    },
    {
     "cell_type": "code",
     "collapsed": false,
     "input": [
      "g = jeremy.mock.galaxy_table"
     ],
     "language": "python",
     "metadata": {},
     "outputs": [],
     "prompt_number": 9
    },
    {
     "cell_type": "code",
     "collapsed": false,
     "input": [
      "redmask = g['sfr_designation'] == 'quiescent'"
     ],
     "language": "python",
     "metadata": {},
     "outputs": [],
     "prompt_number": 10
    },
    {
     "cell_type": "code",
     "collapsed": false,
     "input": [
      "reds = g[redmask]\n",
      "blues = g[~redmask]"
     ],
     "language": "python",
     "metadata": {},
     "outputs": [],
     "prompt_number": 11
    },
    {
     "cell_type": "code",
     "collapsed": false,
     "input": [
      "redsats = reds['gal_type'] == 'quiescent_satellites'\n",
      "print(len(reds[redsats])/float(len(reds)))"
     ],
     "language": "python",
     "metadata": {},
     "outputs": [
      {
       "output_type": "stream",
       "stream": "stdout",
       "text": [
        "0.386226915149\n"
       ]
      }
     ],
     "prompt_number": 12
    },
    {
     "cell_type": "code",
     "collapsed": false,
     "input": [
      "bluesats = blues['gal_type'] == 'active_satellites'\n",
      "print(len(blues[bluesats])/float(len(blues)))"
     ],
     "language": "python",
     "metadata": {},
     "outputs": [
      {
       "output_type": "stream",
       "stream": "stdout",
       "text": [
        "0.29769713887\n"
       ]
      }
     ],
     "prompt_number": 13
    },
    {
     "cell_type": "code",
     "collapsed": false,
     "input": [
      "len(g)"
     ],
     "language": "python",
     "metadata": {},
     "outputs": [
      {
       "metadata": {},
       "output_type": "pyout",
       "prompt_number": 14,
       "text": [
        "59596"
       ]
      }
     ],
     "prompt_number": 14
    },
    {
     "cell_type": "code",
     "collapsed": false,
     "input": [
      "len(alexie.mock.galaxy_table)"
     ],
     "language": "python",
     "metadata": {},
     "outputs": [
      {
       "metadata": {},
       "output_type": "pyout",
       "prompt_number": 8,
       "text": [
        "103282"
       ]
      }
     ],
     "prompt_number": 8
    },
    {
     "cell_type": "code",
     "collapsed": false,
     "input": [
      "print(ncen_active_jeremy2.mean())"
     ],
     "language": "python",
     "metadata": {},
     "outputs": [
      {
       "output_type": "stream",
       "stream": "stdout",
       "text": [
        "0.177189812547\n"
       ]
      }
     ],
     "prompt_number": 19
    },
    {
     "cell_type": "code",
     "collapsed": false,
     "input": [
      "type('abc') is str"
     ],
     "language": "python",
     "metadata": {},
     "outputs": [
      {
       "metadata": {},
       "output_type": "pyout",
       "prompt_number": 27,
       "text": [
        "True"
       ]
      }
     ],
     "prompt_number": 27
    },
    {
     "cell_type": "code",
     "collapsed": false,
     "input": [
      "#jeremy.param_dict"
     ],
     "language": "python",
     "metadata": {},
     "outputs": [],
     "prompt_number": 1
    },
    {
     "cell_type": "code",
     "collapsed": false,
     "input": [
      "print jeremy.mock.number_density\n",
      "print alexie.mock.number_density\n",
      "print alexie.mock.number_density/jeremy.mock.number_density"
     ],
     "language": "python",
     "metadata": {},
     "outputs": [
      {
       "output_type": "stream",
       "stream": "stdout",
       "text": [
        "0.00379904\n",
        "0.006610048\n",
        "1.73992587601\n"
       ]
      }
     ],
     "prompt_number": 9
    },
    {
     "cell_type": "markdown",
     "metadata": {},
     "source": [
      "## Testing the SMHM "
     ]
    },
    {
     "cell_type": "code",
     "collapsed": false,
     "input": [
      "mass = np.logspace(11, 15, 1000)\n",
      "jeremy = Tinker13()\n",
      "alexie = Leauthaud11()"
     ],
     "language": "python",
     "metadata": {},
     "outputs": [],
     "prompt_number": 8
    },
    {
     "cell_type": "code",
     "collapsed": false,
     "input": [
      "jeremy_active_sm = jeremy.mean_stellar_mass_active_centrals(prim_haloprop = mass)\n",
      "jeremy_quiescent_sm = jeremy.mean_stellar_mass_quiescent_centrals(prim_haloprop = mass)\n",
      "alexie_sm = alexie.mean_stellar_mass_centrals(prim_haloprop = mass)"
     ],
     "language": "python",
     "metadata": {},
     "outputs": [],
     "prompt_number": 9
    },
    {
     "cell_type": "code",
     "collapsed": false,
     "input": [
      "plt.plot(mass, alexie_sm, '--', color='k', linewidth=2)\n",
      "plt.plot(mass, jeremy_active_sm, color='blue', linewidth=2)\n",
      "plt.plot(mass, jeremy_quiescent_sm, color='red', linewidth=2)\n",
      "\n",
      "plt.loglog()"
     ],
     "language": "python",
     "metadata": {},
     "outputs": [
      {
       "metadata": {},
       "output_type": "pyout",
       "prompt_number": 11,
       "text": [
        "[]"
       ]
      },
      {
       "metadata": {},
       "output_type": "display_data",
       "png": "[encoded data removed]",
       "text": [
        "<matplotlib.figure.Figure at 0x109e3ac50>"
       ]
      }
     ],
     "prompt_number": 11
    },
    {
     "cell_type": "code",
     "collapsed": false,
     "input": [
      "quiescent_fraction_abcissa = np.array([6.31e10, 3.98e11, 2.51e12, 1.58e13, 1.e14])"
     ],
     "language": "python",
     "metadata": {},
     "outputs": [],
     "prompt_number": 12
    },
    {
     "cell_type": "code",
     "collapsed": false,
     "input": [
      "littleh = 0.72"
     ],
     "language": "python",
     "metadata": {},
     "outputs": [],
     "prompt_number": 13
    },
    {
     "cell_type": "code",
     "collapsed": false,
     "input": [
      "quiescent_fraction_abcissa/littleh"
     ],
     "language": "python",
     "metadata": {},
     "outputs": [
      {
       "metadata": {},
       "output_type": "pyout",
       "prompt_number": 14,
       "text": [
        "array([  8.76388889e+10,   5.52777778e+11,   3.48611111e+12,\n",
        "         2.19444444e+13,   1.38888889e+14])"
       ]
      }
     ],
     "prompt_number": 14
    },
    {
     "cell_type": "code",
     "collapsed": false,
     "input": [
      "r, xi = jeremy.compute_average_galaxy_clustering()"
     ],
     "language": "python",
     "metadata": {},
     "outputs": [],
     "prompt_number": 10
    },
    {
     "cell_type": "code",
     "collapsed": false,
     "input": [
      "r, xi2 = alexie.compute_average_galaxy_clustering()"
     ],
     "language": "python",
     "metadata": {},
     "outputs": [],
     "prompt_number": 11
    },
    {
     "cell_type": "code",
     "collapsed": false,
     "input": [
      "print xi2/xi"
     ],
     "language": "python",
     "metadata": {},
     "outputs": [
      {
       "output_type": "stream",
       "stream": "stdout",
       "text": [
        "[ 0.65486987  0.5610409   0.4851567   0.44075954  0.40252228  0.38208448\n",
        "  0.39899562  0.53502176  0.73536503  0.83092852  0.81297262  0.78457504\n",
        "  0.82875097  0.82575956]\n"
       ]
      }
     ],
     "prompt_number": 12
    },
    {
     "cell_type": "code",
     "collapsed": false,
     "input": [
      "alexie.param_dict"
     ],
     "language": "python",
     "metadata": {},
     "outputs": [
      {
       "metadata": {},
       "output_type": "pyout",
       "prompt_number": 6,
       "text": [
        "{'alphasat': 1.0,\n",
        " 'bcut': 1.47,\n",
        " 'betacut': -0.13,\n",
        " 'betasat': 0.859,\n",
        " 'bsat': 10.62,\n",
        " 'scatter_model_param1': 0.2,\n",
        " 'smhm_beta_0': 0.43,\n",
        " 'smhm_beta_a': 0.18,\n",
        " 'smhm_delta_0': 0.56,\n",
        " 'smhm_delta_a': 0.18,\n",
        " 'smhm_gamma_0': 1.54,\n",
        " 'smhm_gamma_a': 2.52,\n",
        " 'smhm_m0_0': 10.72,\n",
        " 'smhm_m0_a': 0.59,\n",
        " 'smhm_m1_0': 12.35,\n",
        " 'smhm_m1_a': 0.3}"
       ]
      }
     ],
     "prompt_number": 6
    },
    {
     "cell_type": "code",
     "collapsed": false,
     "input": [],
     "language": "python",
     "metadata": {},
     "outputs": [],
     "prompt_number": 2
    },
    {
     "cell_type": "code",
     "collapsed": false,
     "input": [],
     "language": "python",
     "metadata": {},
     "outputs": [],
     "prompt_number": 2
    },
    {
     "cell_type": "code",
     "collapsed": false,
     "input": [],
     "language": "python",
     "metadata": {},
     "outputs": []
    }
   ],
   "metadata": {}
  }
 ]
}