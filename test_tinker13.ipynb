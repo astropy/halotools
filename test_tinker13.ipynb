{
 "metadata": {
  "name": "",
  "signature": "sha256:52dc7ab860ae6577f025ce8d113c379d6fb6085ce1e9d509783537ffc6a1c091"
 },
 "nbformat": 3,
 "nbformat_minor": 0,
 "worksheets": [
  {
   "cells": [
    {
     "cell_type": "code",
     "collapsed": false,
     "input": [
      "%matplotlib inline\n",
      "from halotools.empirical_models.preloaded_models import Tinker13, Leauthaud11\n",
      "from halotools.empirical_models.tinker13 import Tinker13Cens\n",
      "jeremy = Tinker13()\n",
      "jeremy_cens = Tinker13Cens()\n",
      "alexie = Leauthaud11()"
     ],
     "language": "python",
     "metadata": {},
     "outputs": [],
     "prompt_number": 1
    },
    {
     "cell_type": "code",
     "collapsed": false,
     "input": [
      "mass = np.logspace(10, 15, 100)\n",
      "ncen_alexie = alexie.mean_occupation_centrals(prim_haloprop = mass)\n",
      "\n",
      "# ncen_active_jeremy = jeremy.mean_occupation_centrals(prim_haloprop = mass, sfr_designation='active')\n",
      "# ncen_quiescent_jeremy = jeremy.mean_occupation_centrals(prim_haloprop = mass, sfr_designation='quiescent')\n",
      "\n",
      "ncen_active_jeremy = jeremy_cens.mean_occupation(prim_haloprop = mass, sfr_designation='active')\n",
      "ncen_quiescent_jeremy = jeremy_cens.mean_occupation(prim_haloprop = mass, sfr_designation='quiescent')\n"
     ],
     "language": "python",
     "metadata": {},
     "outputs": [],
     "prompt_number": 2
    },
    {
     "cell_type": "code",
     "collapsed": false,
     "input": [
      "plt.plot(mass, ncen_alexie, color='k')\n",
      "plt.plot(mass, ncen_active_jeremy, color='blue')\n",
      "plt.plot(mass, ncen_quiescent_jeremy, color='red')\n",
      "\n",
      "plt.loglog()\n",
      "plt.xlim(xmin = 1e11, xmax=1e14)\n",
      "plt.ylim(ymin = 1e-3, ymax=2)"
     ],
     "language": "python",
     "metadata": {},
     "outputs": [
      {
       "metadata": {},
       "output_type": "pyout",
       "prompt_number": 3,
       "text": [
        "(0.001, 2)"
       ]
      },
      {
       "metadata": {},
       "output_type": "display_data",
       "png": "[encoded data removed]",
       "text": [
        "<matplotlib.figure.Figure at 0x109bbef10>"
       ]
      }
     ],
     "prompt_number": 3
    },
    {
     "cell_type": "code",
     "collapsed": false,
     "input": [
      "print ncen_quiescent_jeremy.max()\n",
      "print ncen_active_jeremy.max()"
     ],
     "language": "python",
     "metadata": {},
     "outputs": [
      {
       "output_type": "stream",
       "stream": "stdout",
       "text": [
        "0.999999996103\n",
        "0.999999996103\n"
       ]
      }
     ],
     "prompt_number": 4
    },
    {
     "cell_type": "code",
     "collapsed": false,
     "input": [
      "rf = jeremy_cens.mean_quiescent_fraction(prim_haloprop = mass)"
     ],
     "language": "python",
     "metadata": {},
     "outputs": [],
     "prompt_number": 5
    },
    {
     "cell_type": "code",
     "collapsed": false,
     "input": [
      "print(rf.min(), rf.max(), rf.mean())"
     ],
     "language": "python",
     "metadata": {},
     "outputs": [
      {
       "output_type": "stream",
       "stream": "stdout",
       "text": [
        "(0.0, 1.0, 0.55680488547723028)\n"
       ]
      }
     ],
     "prompt_number": 6
    },
    {
     "cell_type": "code",
     "collapsed": false,
     "input": [],
     "language": "python",
     "metadata": {},
     "outputs": [],
     "prompt_number": 6
    },
    {
     "cell_type": "code",
     "collapsed": false,
     "input": [
      "jeremy.populate_mock()"
     ],
     "language": "python",
     "metadata": {},
     "outputs": [
      {
       "output_type": "stream",
       "stream": "stdout",
       "text": [
        "\n",
        "...Building lookup tables for the NFWPhaseSpace radial profile.\n",
        "    (This will take about 0 seconds, and only needs to be done once)"
       ]
      },
      {
       "output_type": "stream",
       "stream": "stdout",
       "text": [
        "\n",
        "\n",
        "...Building lookup tables for the NFWPhaseSpace radial profile."
       ]
      },
      {
       "output_type": "stream",
       "stream": "stdout",
       "text": [
        "\n",
        "    (This will take about 0 seconds, and only needs to be done once)"
       ]
      },
      {
       "output_type": "stream",
       "stream": "stdout",
       "text": [
        "\n"
       ]
      }
     ],
     "prompt_number": 7
    },
    {
     "cell_type": "code",
     "collapsed": false,
     "input": [
      "jeremy.mock.satellite_fraction"
     ],
     "language": "python",
     "metadata": {},
     "outputs": [
      {
       "metadata": {},
       "output_type": "pyout",
       "prompt_number": 8,
       "text": [
        "0.6273728170083523"
       ]
      }
     ],
     "prompt_number": 8
    },
    {
     "cell_type": "code",
     "collapsed": false,
     "input": [
      "alexie.populate_mock()"
     ],
     "language": "python",
     "metadata": {},
     "outputs": [
      {
       "output_type": "stream",
       "stream": "stdout",
       "text": [
        "\n",
        "...Building lookup tables for the NFWPhaseSpace radial profile.\n",
        "    (This will take about 1 seconds, and only needs to be done once)"
       ]
      },
      {
       "output_type": "stream",
       "stream": "stdout",
       "text": [
        "\n"
       ]
      }
     ],
     "prompt_number": 9
    },
    {
     "cell_type": "code",
     "collapsed": false,
     "input": [
      "alexie.mock.satellite_fraction"
     ],
     "language": "python",
     "metadata": {},
     "outputs": [
      {
       "metadata": {},
       "output_type": "pyout",
       "prompt_number": 10,
       "text": [
        "0.2820762875595709"
       ]
      }
     ],
     "prompt_number": 10
    },
    {
     "cell_type": "code",
     "collapsed": false,
     "input": [
      "g = jeremy.mock.galaxy_table"
     ],
     "language": "python",
     "metadata": {},
     "outputs": [],
     "prompt_number": 11
    },
    {
     "cell_type": "code",
     "collapsed": false,
     "input": [
      "redmask = g['sfr_designation'] == 'quiescent'"
     ],
     "language": "python",
     "metadata": {},
     "outputs": [],
     "prompt_number": 12
    },
    {
     "cell_type": "code",
     "collapsed": false,
     "input": [
      "reds = g[redmask]\n",
      "blues = g[~redmask]"
     ],
     "language": "python",
     "metadata": {},
     "outputs": [],
     "prompt_number": 13
    },
    {
     "cell_type": "code",
     "collapsed": false,
     "input": [
      "redsats = reds['gal_type'] == 'quiescent_satellites'\n",
      "print(len(reds[redsats])/float(len(reds)))"
     ],
     "language": "python",
     "metadata": {},
     "outputs": [
      {
       "output_type": "stream",
       "stream": "stdout",
       "text": [
        "0.684689498556\n"
       ]
      }
     ],
     "prompt_number": 16
    },
    {
     "cell_type": "code",
     "collapsed": false,
     "input": [
      "bluesats = blues['gal_type'] == 'active_satellites'\n",
      "print(len(blues[bluesats])/float(len(blues)))"
     ],
     "language": "python",
     "metadata": {},
     "outputs": [
      {
       "output_type": "stream",
       "stream": "stdout",
       "text": [
        "0.551887933499\n"
       ]
      }
     ],
     "prompt_number": 17
    },
    {
     "cell_type": "code",
     "collapsed": false,
     "input": [],
     "language": "python",
     "metadata": {},
     "outputs": [],
     "prompt_number": 13
    },
    {
     "cell_type": "code",
     "collapsed": false,
     "input": [],
     "language": "python",
     "metadata": {},
     "outputs": []
    }
   ],
   "metadata": {}
  }
 ]
}