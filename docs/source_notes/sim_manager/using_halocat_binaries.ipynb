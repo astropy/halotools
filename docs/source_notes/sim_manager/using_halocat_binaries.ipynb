{
 "metadata": {
  "name": "",
  "signature": "sha256:2a16df05a71ea8836e04a69f35161cfae4806ed343a656c68ec74af60fe7614b"
 },
 "nbformat": 3,
 "nbformat_minor": 0,
 "worksheets": [
  {
   "cells": [
    {
     "cell_type": "markdown",
     "metadata": {},
     "source": [
      "using-halocat-binaries\n",
      "\n",
      "Tutorial on managing pre-processed halo catalogs\n"
     ]
    },
    {
     "cell_type": "markdown",
     "metadata": {},
     "source": [
      "If you are following this tutorial, you should first have downloaded the default Halotools catalog by following the instructions given in the :ref:`first_steps` section of the documentation. Follow those instructions now if you have not done so already. "
     ]
    },
    {
     "cell_type": "markdown",
     "metadata": {},
     "source": [
      "## Working with the default pre-processed snapshot\n",
      "\n",
      "To get warmed up, let's see how to work with the default snapshot provided by Halotools. After importing the `--~halotools.sim_manager--` sub-package, you can load the default snapshot into memory with a single line of code:"
     ]
    },
    {
     "cell_type": "code",
     "collapsed": false,
     "input": [
      "from halotools import sim_manager\n",
      "default_snapshot = sim_manager.HaloCatalog()\n"
     ],
     "language": "python",
     "metadata": {},
     "outputs": [
      {
       "output_type": "stream",
       "stream": "stdout",
       "text": [
        "Loading halo catalog with the following absolute path: \n",
        "/Users/aphearin/.astropy/cache/halotools/halo_catalogs/bolshoi/rockstar/hlist_1.00030.list.halotools.official.version.hdf5\n",
        "\n"
       ]
      }
     ],
     "prompt_number": 1
    },
    {
     "cell_type": "markdown",
     "metadata": {},
     "source": [
      "The `--~halotools.sim_manager.HaloCatalog--` is the primary class you will use when working with halo catalogs. When you instantiate this class, as in the second line of code above, Halotools first searches for the relevant halo catalog in your cache directory. Since you called `--~halotools.sim_manager.HaloCatalog--` with no arguments, the default snapshot is chosen.  \n",
      "\n",
      "The halo catalog is attached to the snapshot object in the form of the ``halo_table`` attribute:"
     ]
    },
    {
     "cell_type": "code",
     "collapsed": false,
     "input": [
      "print(default_snapshot.halo_table[0:4])\n"
     ],
     "language": "python",
     "metadata": {},
     "outputs": [
      {
       "output_type": "stream",
       "stream": "stdout",
       "text": [
        "scale    haloid   scale_desc ... mvir_firstacc vmax_firstacc vmax_mpeak\n",
        "------ ---------- ---------- ... ------------- ------------- ----------\n",
        "1.0003 3060299107        0.0 ...     1.643e+14        952.39     952.39\n",
        "1.0003 3060312953        0.0 ...     1.589e+14        823.11     823.11\n",
        "1.0003 3058440575        0.0 ...     1.144e+14        799.42     799.42\n",
        "1.0003 3058441456        0.0 ...     9.709e+13        679.37     679.37\n"
       ]
      }
     ],
     "prompt_number": 2
    },
    {
     "cell_type": "markdown",
     "metadata": {},
     "source": [
      "The data structure behind the scenes of the ``halo_table`` attribute of ``default_snapshot`` is an Astropy Table. We'll give a few simple examples illustrating how to manipulate Astropy Tables below, but for more detailed information about this data structure, see `--astropy.table--`. \n",
      "\n",
      "The ``default_snapshot`` also has the halo catalog and simulation metadata bound to it. Here are a few examples:"
     ]
    },
    {
     "cell_type": "code",
     "collapsed": false,
     "input": [
      "print(\"Simulation name = %s \" % default_snapshot.simname)\n",
      "print(\"Halo-finder = %s \" % default_snapshot.halo_finder)\n",
      "print(\"Snapshot redshift = %.1f \" % default_snapshot.redshift)\n",
      "print(\"Description of applied cuts = \\n%s \" % default_snapshot.cuts_description)\n"
     ],
     "language": "python",
     "metadata": {},
     "outputs": [
      {
       "output_type": "stream",
       "stream": "stdout",
       "text": [
        "Simulation name = bolshoi \n",
        "Halo-finder = rockstar \n",
        "Snapshot redshift = -0.0 \n"
       ]
      }
     ],
     "prompt_number": 3
    },
    {
     "cell_type": "markdown",
     "metadata": {},
     "source": [
      "This metadata is also bound to the hdf5 files themselves, so that both the `--~halotools.sim_manager.HaloCatalog--` and the binary file itself are self-expressive regarding exactly how they were generated. "
     ]
    },
    {
     "cell_type": "markdown",
     "metadata": {},
     "source": [
      "The default snapshot also comes with a randomly selected downsampling of ~1e6 dark matter particles, which you can access via the ``ptcl_table`` attribute:"
     ]
    },
    {
     "cell_type": "code",
     "collapsed": false,
     "input": [
      "print(default_snapshot.ptcl_table[0:4])\n"
     ],
     "language": "python",
     "metadata": {},
     "outputs": []
    },
    {
     "cell_type": "markdown",
     "metadata": {},
     "source": [
      "# Downloading other halo catalogs\n",
      "\n",
      "Up until now, you have been working with the default snapshot downloaded by the startup script ``download_initial_halocat.py``. However, the Halotools team also provides other pre-processed snapshots to choose from. To see which ones, you need to use the Catalog Manager:\n"
     ]
    },
    {
     "cell_type": "code",
     "collapsed": false,
     "input": [
      "catman = sim_manager.CatalogManager()\n"
     ],
     "language": "python",
     "metadata": {},
     "outputs": [],
     "prompt_number": 5
    },
    {
     "cell_type": "markdown",
     "metadata": {},
     "source": [
      "To see which snapshots have been pre-processed for a given simulation:"
     ]
    },
    {
     "cell_type": "code",
     "collapsed": false,
     "input": [
      "catlist = catman.processed_halo_tables_available_for_download(simname='bolshoi', halo_finder='rockstar')    \n",
      "for fname in catlist:\n",
      "    print fname\n",
      "    "
     ],
     "language": "python",
     "metadata": {},
     "outputs": [
      {
       "output_type": "stream",
       "stream": "stdout",
       "text": [
        "z = 2.03 \n",
        "z = 0.98 \n",
        "z = 0.49 \n",
        "z = -0.00 \n"
       ]
      }
     ],
     "prompt_number": 7
    },
    {
     "cell_type": "markdown",
     "metadata": {},
     "source": [
      "Halotools keeps the same filenames for each processed catalog to maintain consistency with the original data sources; the convention is that the scale factor of the snapshot is part of the ``hlist_`` filename. \n",
      "\n",
      "So for this combination of simulation/halo-finder, we have four options to choose from for our pre-processed snapshot. To download the z=2 snapshot:"
     ]
    },
    {
     "cell_type": "code",
     "collapsed": false,
     "input": [
      "catman.download_processed_halo_table(simname='bolshoi', halo_finder='rockstar', desired_redshift=2)\n"
     ],
     "language": "python",
     "metadata": {},
     "outputs": [
      {
       "output_type": "stream",
       "stream": "stdout",
       "text": [
        "The following filename already exists in your cache directory: \n",
        "\n",
        "/Users/aphearin/.astropy/cache/halotools/halo_catalogs/bolshoi/rockstar/hlist_0.33030.list.halotools.official.version.hdf5\n",
        "\n",
        "If you really want to overwrite the file, \n",
        "you must call the same function again \n",
        "with the keyword argument `overwrite` set to `True`\n"
       ]
      }
     ],
     "prompt_number": 9
    },
    {
     "cell_type": "markdown",
     "metadata": {},
     "source": [
      "In this case, Halotools detected that the pre-processed halo catalog was actually already stored in my cache directory, so there was no need to download the catalog. If you are following this tutorial for the first time, the download would proceed. "
     ]
    },
    {
     "cell_type": "markdown",
     "metadata": {},
     "source": [
      "Now that your z=2 catalog is in cache, you can load it into memory just as before by using the `--~halotools.sim_manager.HaloCatalog--` method:"
     ]
    },
    {
     "cell_type": "code",
     "collapsed": false,
     "input": [
      "z2_snapshot = sim_manager.HaloCatalog(simname='bolshoi', halo_finder='rockstar', desired_redshift=2)\n"
     ],
     "language": "python",
     "metadata": {},
     "outputs": [
      {
       "output_type": "stream",
       "stream": "stdout",
       "text": [
        "Loading halo catalog with the following absolute path: \n",
        "/Users/aphearin/.astropy/cache/halotools/halo_catalogs/bolshoi/rockstar/hlist_0.33030.list.halotools.official.version.hdf5\n",
        "\n"
       ]
      }
     ],
     "prompt_number": 10
    },
    {
     "cell_type": "markdown",
     "metadata": {},
     "source": [
      "## Concluding notes\n",
      "\n",
      "Refer to the :ref:`sim_manager_api` section of the documentation to see how to call these and other methods of the `--~halotools.sim_manager.CatalogManager--`. "
     ]
    },
    {
     "cell_type": "code",
     "collapsed": false,
     "input": [],
     "language": "python",
     "metadata": {},
     "outputs": [],
     "prompt_number": 10
    }
   ],
   "metadata": {}
  }
 ]
}