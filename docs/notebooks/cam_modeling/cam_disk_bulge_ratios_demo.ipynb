{
 "cells": [
  {
   "cell_type": "code",
   "execution_count": 1,
   "metadata": {},
   "outputs": [],
   "source": [
    "%matplotlib inline"
   ]
  },
  {
   "cell_type": "code",
   "execution_count": 2,
   "metadata": {},
   "outputs": [],
   "source": [
    "import numpy as np \n",
    "from matplotlib import pyplot as plt"
   ]
  },
  {
   "cell_type": "markdown",
   "metadata": {},
   "source": [
    "## Build a baseline model of stellar mass"
   ]
  },
  {
   "cell_type": "code",
   "execution_count": 40,
   "metadata": {},
   "outputs": [],
   "source": [
    "from halotools.sim_manager import CachedHaloCatalog\n",
    "halocat = CachedHaloCatalog()\n",
    "\n",
    "from halotools.empirical_models import Moster13SmHm\n",
    "model = Moster13SmHm()\n",
    "\n",
    "halocat.halo_table['stellar_mass'] = model.mc_stellar_mass(\n",
    "    prim_haloprop=halocat.halo_table['halo_mpeak'], redshift=0)\n"
   ]
  },
  {
   "cell_type": "markdown",
   "metadata": {},
   "source": [
    "## Define a simple model for $M_{\\ast}-$dependence of ${\\rm B/T}$ power law index"
   ]
  },
  {
   "cell_type": "code",
   "execution_count": 41,
   "metadata": {},
   "outputs": [],
   "source": [
    "def powerlaw_index(log_mstar):\n",
    "    abscissa = [9, 10, 11.5]\n",
    "    ordinates = [3, 2, 1]\n",
    "    return np.interp(log_mstar, abscissa, ordinates)"
   ]
  },
  {
   "cell_type": "markdown",
   "metadata": {},
   "source": [
    "## Calculate the spin-percentile"
   ]
  },
  {
   "cell_type": "code",
   "execution_count": 42,
   "metadata": {},
   "outputs": [],
   "source": [
    "from halotools.utils import sliding_conditional_percentile\n",
    "\n",
    "x = halocat.halo_table['stellar_mass']\n",
    "y = halocat.halo_table['halo_spin']\n",
    "nwin = 201\n",
    "halocat.halo_table['spin_percentile'] = sliding_conditional_percentile(x, y, nwin)"
   ]
  },
  {
   "cell_type": "markdown",
   "metadata": {},
   "source": [
    "## Use CAM to generate a Monte Carlo realization of ${\\rm B/T}$"
   ]
  },
  {
   "cell_type": "code",
   "execution_count": 43,
   "metadata": {},
   "outputs": [],
   "source": [
    "a = powerlaw_index(np.log10(halocat.halo_table['stellar_mass']))\n",
    "u = halocat.halo_table['spin_percentile']\n",
    "halocat.halo_table['bulge_to_total_ratio'] = 1 - powerlaw.isf(1 - u, a)"
   ]
  },
  {
   "cell_type": "markdown",
   "metadata": {},
   "source": [
    "### Plot the results"
   ]
  },
  {
   "cell_type": "code",
   "execution_count": 44,
   "metadata": {},
   "outputs": [
    {
     "data": {
      "image/png": "[encoded data removed]",
      "text/plain": [
       "<matplotlib.figure.Figure at 0x1142c2410>"
      ]
     },
     "metadata": {},
     "output_type": "display_data"
    }
   ],
   "source": [
    "fig, ax = plt.subplots(1, 1)\n",
    "\n",
    "mask1 = halocat.halo_table['stellar_mass'] < 10**9.5\n",
    "mask2 = halocat.halo_table['stellar_mass'] > 10**10.5\n",
    "\n",
    "__=ax.hist(halocat.halo_table['bulge_to_total_ratio'][mask1], \n",
    "           bins=100, alpha=0.8, normed=True, color='blue',\n",
    "           label=r'$\\log M_{\\ast} < 9.5$')\n",
    "__=ax.hist(halocat.halo_table['bulge_to_total_ratio'][mask2], \n",
    "           bins=100, alpha=0.8, normed=True, color='red',\n",
    "           label=r'$\\log M_{\\ast} > 10.5$')\n",
    "\n",
    "legend = ax.legend()\n",
    "\n",
    "xlabel = ax.set_xlabel(r'${\\rm B/T}$')\n",
    "ylabel = ax.set_ylabel(r'${\\rm PDF}$')\n",
    "title = ax.set_title(r'${\\rm Bulge}$-${\\rm to}$-${\\rm Total\\ M_{\\ast}\\ Ratio}$')\n",
    "\n",
    "figname = 'cam_example_bt_distributions.png'\n",
    "fig.savefig(figname, bbox_extra_artists=[xlabel, ylabel], bbox_inches='tight')"
   ]
  },
  {
   "cell_type": "code",
   "execution_count": 66,
   "metadata": {},
   "outputs": [
    {
     "data": {
      "image/png": "[encoded data removed]",
      "text/plain": [
       "<matplotlib.figure.Figure at 0x11f14c550>"
      ]
     },
     "metadata": {},
     "output_type": "display_data"
    }
   ],
   "source": [
    "xmin, xmax = 9, 11.25\n",
    "\n",
    "fig, ax = plt.subplots(1, 1)\n",
    "xscale = ax.set_xscale('log')\n",
    "\n",
    "from scipy.stats import binned_statistic\n",
    "log_mass_bins = np.linspace(xmin, xmax, 25)\n",
    "mass_mids = 10**(0.5*(log_mass_bins[:-1] + log_mass_bins[1:]))\n",
    "\n",
    "median_bt, __, __ = binned_statistic(\n",
    "    halocat.halo_table['stellar_mass'], halocat.halo_table['bulge_to_total_ratio'], \n",
    "    bins=10**log_mass_bins, statistic='median')\n",
    "std_bt, __, __ = binned_statistic(\n",
    "    halocat.halo_table['stellar_mass'], halocat.halo_table['bulge_to_total_ratio'], \n",
    "    bins=10**log_mass_bins, statistic=np.std)\n",
    "\n",
    "low_spin_mask = halocat.halo_table['spin_percentile'] < 0.5\n",
    "median_bt_low_spin, __, __ = binned_statistic(\n",
    "    halocat.halo_table['stellar_mass'][low_spin_mask], \n",
    "    halocat.halo_table['bulge_to_total_ratio'][low_spin_mask], \n",
    "    bins=10**log_mass_bins, statistic='median')\n",
    "std_bt_low_spin, __, __ = binned_statistic(\n",
    "    halocat.halo_table['stellar_mass'][low_spin_mask], \n",
    "    halocat.halo_table['bulge_to_total_ratio'][low_spin_mask], \n",
    "    bins=10**log_mass_bins, statistic=np.std)\n",
    "\n",
    "high_spin_mask = halocat.halo_table['spin_percentile'] > 0.5\n",
    "median_bt_high_spin, __, __ = binned_statistic(\n",
    "    halocat.halo_table['stellar_mass'][high_spin_mask], \n",
    "    halocat.halo_table['bulge_to_total_ratio'][high_spin_mask], \n",
    "    bins=10**log_mass_bins, statistic='median')\n",
    "std_bt_high_spin, __, __ = binned_statistic(\n",
    "    halocat.halo_table['stellar_mass'][high_spin_mask], \n",
    "    halocat.halo_table['bulge_to_total_ratio'][high_spin_mask], \n",
    "    bins=10**log_mass_bins, statistic=np.std)\n",
    "\n",
    "y1 = median_bt_low_spin - std_bt_low_spin\n",
    "y2 = median_bt_low_spin + std_bt_low_spin\n",
    "__=ax.fill_between(mass_mids, y1, y2, alpha=0.8, color='red', \n",
    "                  label=r'${\\rm low\\ spin\\ halos}$')\n",
    "\n",
    "y1 = median_bt_high_spin - std_bt_high_spin\n",
    "y2 = median_bt_high_spin + std_bt_high_spin\n",
    "__=ax.fill_between(mass_mids, y1, y2, alpha=0.8, color='blue',\n",
    "                  label=r'${\\rm high\\ spin\\ halos}$')\n",
    "\n",
    "ylim = ax.set_ylim(0, 1)\n",
    "\n",
    "legend = ax.legend(loc='upper left')\n",
    "\n",
    "xlabel = ax.set_xlabel(r'${\\rm M_{\\ast}/M_{\\odot}}$')\n",
    "ylabel = ax.set_ylabel(r'$\\langle{\\rm B/T}\\rangle$')\n",
    "\n",
    "figname = 'cam_example_bulge_disk_ratio.png'\n",
    "fig.savefig(figname, bbox_extra_artists=[xlabel, ylabel], bbox_inches='tight')"
   ]
  },
  {
   "cell_type": "code",
   "execution_count": null,
   "metadata": {},
   "outputs": [],
   "source": []
  }
 ],
 "metadata": {
  "kernelspec": {
   "display_name": "Python [conda root]",
   "language": "python",
   "name": "conda-root-py"
  },
  "language_info": {
   "codemirror_mode": {
    "name": "ipython",
    "version": 2
   },
   "file_extension": ".py",
   "mimetype": "text/x-python",
   "name": "python",
   "nbconvert_exporter": "python",
   "pygments_lexer": "ipython2",
   "version": "2.7.14"
  }
 },
 "nbformat": 4,
 "nbformat_minor": 2
}
