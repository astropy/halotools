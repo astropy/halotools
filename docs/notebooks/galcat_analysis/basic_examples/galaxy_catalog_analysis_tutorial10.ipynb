{
 "metadata": {
  "name": "",
  "signature": "sha256:b47df0564c9b9b70ac50e85b349ce66b3be9e9fd79f354c021b3651d39c73018"
 },
 "nbformat": 3,
 "nbformat_minor": 0,
 "worksheets": [
  {
   "cells": [
    {
     "cell_type": "heading",
     "level": 1,
     "metadata": {},
     "source": [
      "Galaxy Catalog Analysis Example: Identifying isolated galaxies"
     ]
    },
    {
     "cell_type": "markdown",
     "metadata": {},
     "source": [
      "In this tutorial, we'll start from a mock galaxy catalog and show how to determine which galaxies are \"isolated\" according to a variety of criteria. "
     ]
    },
    {
     "cell_type": "heading",
     "level": 2,
     "metadata": {},
     "source": [
      "Generate a mock galaxy catalog \n"
     ]
    },
    {
     "cell_type": "markdown",
     "metadata": {},
     "source": [
      "Let's start out by generating a mock galaxy catalog into an N-body\n",
      "simulation in the usual way. Here we'll assume you have the :math:`z=0`\n",
      "rockstar halos for the bolshoi simulation, as this is the\n",
      "default halo catalog. \n"
     ]
    },
    {
     "cell_type": "code",
     "collapsed": false,
     "input": [
      "from halotools.empirical_models import PrebuiltSubhaloModelFactory\n",
      "model = PrebuiltSubhaloModelFactory('smhm_binary_sfr')"
     ],
     "language": "python",
     "metadata": {},
     "outputs": [],
     "prompt_number": 1
    },
    {
     "cell_type": "code",
     "collapsed": false,
     "input": [
      "from halotools.sim_manager import CachedHaloCatalog\n",
      "halocat = CachedHaloCatalog(simname = 'bolshoi', redshift = 0, halo_finder = 'rockstar')\n",
      "\n",
      "model.populate_mock(halocat)"
     ],
     "language": "python",
     "metadata": {},
     "outputs": [],
     "prompt_number": 2
    },
    {
     "cell_type": "markdown",
     "metadata": {},
     "source": [
      "Now suppose the data we are interested in is complete for\n",
      "$M_{\\ast} > 10^{10}M_{\\odot},$ so we will make a cut on the mock.\n",
      "Our mock galaxies are stored in the ``galaxy_table`` of ``model.mock``\n",
      "in the form of an Astropy `Table`.\n"
     ]
    },
    {
     "cell_type": "code",
     "collapsed": false,
     "input": [
      "sample_mask = model.mock.galaxy_table['stellar_mass'] > 1e10\n",
      "gals = model.mock.galaxy_table[sample_mask]"
     ],
     "language": "python",
     "metadata": {},
     "outputs": [],
     "prompt_number": 3
    },
    {
     "cell_type": "heading",
     "level": 2,
     "metadata": {},
     "source": [
      "Example 1: Isolation in 3d"
     ]
    },
    {
     "cell_type": "markdown",
     "metadata": {},
     "source": [
      "For the first example we'll find \"isolated\" galaxies using simple spherical isolation: a galaxy will be said to be isolated if no other galaxy resides within a sphere of size `r_max`. "
     ]
    },
    {
     "cell_type": "code",
     "collapsed": false,
     "input": [
      "from halotools.mock_observables import spherical_isolation"
     ],
     "language": "python",
     "metadata": {},
     "outputs": [],
     "prompt_number": 7
    },
    {
     "cell_type": "markdown",
     "metadata": {},
     "source": [
      "The calling signature of `spherical_isolation` accepts a multi-dimensional array storing the x, y, z positions of each point. You can place your points into the appropriate form using `np.vstack([x, y, z]).T`, but below we'll demo how to use the `~halotools.mock_observables.return_xyz_formatted_array` function for this purpose, as this function provides additional convenient behavior that we'll use later in the tutorial. "
     ]
    },
    {
     "cell_type": "code",
     "collapsed": false,
     "input": [
      "from halotools.mock_observables import return_xyz_formatted_array"
     ],
     "language": "python",
     "metadata": {},
     "outputs": [],
     "prompt_number": 6
    },
    {
     "cell_type": "code",
     "collapsed": false,
     "input": [
      "sample1 = return_xyz_formatted_array(gals['x'], gals['y'], gals['z'])"
     ],
     "language": "python",
     "metadata": {},
     "outputs": [],
     "prompt_number": 8
    },
    {
     "cell_type": "markdown",
     "metadata": {},
     "source": [
      "The `spherical_isolation` function accepts distinct inputs for `sample1` and `sample2`. The calculation is designed to treat `sample2` points as the tracer field, and `sample1` the points for which you would like to apply the isolation criteria, so that for each point in `sample1`, the points in `sample2` will be searched for neighbors. Thus if you pass in `sample1` as both arguments, you will search for points in `sample1` that are isolated from other points in `sample1`. "
     ]
    },
    {
     "cell_type": "code",
     "collapsed": false,
     "input": [
      "r_max = 0.5 # Note that all lengths are in Mpc/h units throughout Halotools\n",
      "\n",
      "is_isolated = spherical_isolation(sample1, sample1, r_max, period = model.mock.Lbox)"
     ],
     "language": "python",
     "metadata": {},
     "outputs": [],
     "prompt_number": 10
    },
    {
     "cell_type": "markdown",
     "metadata": {},
     "source": [
      "The returned result `is_isolated` is a boolean array; for any galaxy for which the corresponding entry is `True`, there are no other galaxies within 500 kpc/h in the `gals` table. "
     ]
    },
    {
     "cell_type": "heading",
     "level": 2,
     "metadata": {},
     "source": [
      "Example 2: Isolation in redshift-space"
     ]
    },
    {
     "cell_type": "markdown",
     "metadata": {},
     "source": [
      "In this next example we'll show how to apply isolation criteria in a more observationally realistic manner: first we place galaxies into redshift-space, and then we apply separate conditions for the perpendicular and line-of-sight directions. "
     ]
    },
    {
     "cell_type": "code",
     "collapsed": false,
     "input": [
      "from halotools.mock_observables import cylindrical_isolation"
     ],
     "language": "python",
     "metadata": {},
     "outputs": [],
     "prompt_number": 12
    },
    {
     "cell_type": "code",
     "collapsed": false,
     "input": [
      "sample1 = return_xyz_formatted_array(gals['x'], gals['y'], gals['z'], \n",
      "            velocity=gals['vz'], velocity_distortion_dimension = 'z', period = model.mock.Lbox)"
     ],
     "language": "python",
     "metadata": {},
     "outputs": [],
     "prompt_number": 14
    },
    {
     "cell_type": "markdown",
     "metadata": {},
     "source": [
      "Now let's define the notion of isolation to mean that no other galaxies lies within a projected distance of 300 kpc/h and a line-of-sight distance of 500 km/s. All units in Halotools assume *h=1*, with lengths always in Mpc/h, so we have:"
     ]
    },
    {
     "cell_type": "code",
     "collapsed": false,
     "input": [
      "rp_max = 0.3"
     ],
     "language": "python",
     "metadata": {},
     "outputs": [],
     "prompt_number": 15
    },
    {
     "cell_type": "markdown",
     "metadata": {},
     "source": [
      "Since *h=1* implies $H_{0} = 100$ km/s/Mpc, our 500 km/s velocity criteria \n",
      "gets transformed into a z-dimension length criteria as:\n"
     ]
    },
    {
     "cell_type": "code",
     "collapsed": false,
     "input": [
      "H0 = 100.0\n",
      "pi_max = 500./H0"
     ],
     "language": "python",
     "metadata": {},
     "outputs": [],
     "prompt_number": 16
    },
    {
     "cell_type": "code",
     "collapsed": false,
     "input": [
      "is_isolated = cylindrical_isolation(sample1, sample1, rp_max, pi_max, period = model.mock.Lbox)"
     ],
     "language": "python",
     "metadata": {},
     "outputs": [],
     "prompt_number": 17
    },
    {
     "cell_type": "heading",
     "level": 2,
     "metadata": {},
     "source": [
      "Example 3: Determining isolation from massive galaxies"
     ]
    },
    {
     "cell_type": "markdown",
     "metadata": {},
     "source": [
      "In this final example, we'll show how to formulate a different variation of isolation: let's determine which galaxies in our sample are isolated from massive galaxies with $M_{\\ast} > 3\\times10^{11}M_{\\odot}.$\n",
      "\n",
      "This variation can be handled simply: we just use two different samples of galaxies. We'll demonstrate this using the `mask` feature of `return_xyz_formatted_array`, but you can of course apply your own mask manually. "
     ]
    },
    {
     "cell_type": "code",
     "collapsed": false,
     "input": [
      "sample1 = return_xyz_formatted_array(gals['x'], gals['y'], gals['z'], \n",
      "            velocity=gals['vz'], velocity_distortion_dimension = 'z', period = model.mock.Lbox)"
     ],
     "language": "python",
     "metadata": {},
     "outputs": [],
     "prompt_number": 80
    },
    {
     "cell_type": "code",
     "collapsed": false,
     "input": [
      "sm_cut = 3e11\n",
      "\n",
      "sample2 = return_xyz_formatted_array(gals['x'], gals['y'], gals['z'], \n",
      "            velocity=gals['vz'], velocity_distortion_dimension = 'z', period = model.mock.Lbox, \n",
      "            mask = gals['stellar_mass'] > sm_cut)"
     ],
     "language": "python",
     "metadata": {},
     "outputs": [],
     "prompt_number": 89
    },
    {
     "cell_type": "code",
     "collapsed": false,
     "input": [
      "rp_max = 5 # projected separation cut of 5 Mpc/h\n",
      "pi_max = 3000./H0 # line-of-sight velocity cut of 3000 km/s\n",
      "\n",
      "is_isolated = cylindrical_isolation(sample1, sample2, rp_max, pi_max, period = model.mock.Lbox)"
     ],
     "language": "python",
     "metadata": {},
     "outputs": [],
     "prompt_number": 90
    },
    {
     "cell_type": "code",
     "collapsed": false,
     "input": [],
     "language": "python",
     "metadata": {},
     "outputs": []
    }
   ],
   "metadata": {}
  }
 ]
}