{
 "metadata": {
  "name": "",
  "signature": "sha256:4954abe0617cf935243f17672465f5f01f69c39f56ffa191c7c3d9e35021031b"
 },
 "nbformat": 3,
 "nbformat_minor": 0,
 "worksheets": [
  {
   "cells": [
    {
     "cell_type": "code",
     "collapsed": false,
     "input": [
      "from __future__ import (absolute_import, division, print_function, unicode_literals)\n",
      "import numpy as np\n",
      "import sys\n"
     ],
     "language": "python",
     "metadata": {},
     "outputs": [],
     "prompt_number": 1
    },
    {
     "cell_type": "code",
     "collapsed": false,
     "input": [
      "from halotools.mock_observables.delta_sigma import delta_sigma"
     ],
     "language": "python",
     "metadata": {},
     "outputs": [],
     "prompt_number": 2
    },
    {
     "cell_type": "code",
     "collapsed": false,
     "input": [
      "Npts=100\n",
      "sample1 = np.random.random((Npts,3))\n",
      "randoms = np.random.random((Npts*10,3))\n",
      "period = np.array([1.0,1.0,1.0])\n",
      "Lbox = np.array([1.0,1.0,1.0])\n",
      "rp_bins = np.linspace(0.05,0.2,5).astype(np.float64)\n",
      "pi_max = 0.2\n"
     ],
     "language": "python",
     "metadata": {},
     "outputs": [],
     "prompt_number": 10
    },
    {
     "cell_type": "code",
     "collapsed": false,
     "input": [
      "r = test(randoms)\n",
      "print(type(r[0]))"
     ],
     "language": "python",
     "metadata": {},
     "outputs": [
      {
       "output_type": "stream",
       "stream": "stdout",
       "text": [
        "<type 'numpy.ndarray'>\n"
       ]
      }
     ],
     "prompt_number": 31
    },
    {
     "cell_type": "code",
     "collapsed": false,
     "input": [
      "def test(x):\n",
      "    dt = None\n",
      "    try:\n",
      "        iterator = iter(x)\n",
      "        if dt is None:\n",
      "            # return x.astype(type(x[0]))\n",
      "            return x\n",
      "        else:\n",
      "            return x.astype(dt)\n",
      "    except TypeError:\n",
      "        x = x.reshape(1)\n",
      "        if dt is None:\n",
      "            return x.astype(type(x[0]))\n",
      "        else:\n",
      "            return x.astype(dt)\n"
     ],
     "language": "python",
     "metadata": {},
     "outputs": [],
     "prompt_number": 24
    },
    {
     "cell_type": "code",
     "collapsed": false,
     "input": [
      "test()"
     ],
     "language": "python",
     "metadata": {},
     "outputs": [
      {
       "metadata": {},
       "output_type": "pyout",
       "prompt_number": 13,
       "text": [
        "3"
       ]
      }
     ],
     "prompt_number": 13
    },
    {
     "cell_type": "code",
     "collapsed": false,
     "input": [
      "result = delta_sigma(sample1, randoms, \n",
      "                     rp_bins, pi_max, period=period, \n",
      "                     log_bins=True,n_bins=25, estimator='Natural', num_threads=1)\n",
      "    \n"
     ],
     "language": "python",
     "metadata": {},
     "outputs": [
      {
       "ename": "AttributeError",
       "evalue": "'float' object has no attribute 'floor'",
       "output_type": "pyerr",
       "traceback": [
        "\u001b[0;31m---------------------------------------------------------------------------\u001b[0m\n\u001b[0;31mAttributeError\u001b[0m                            Traceback (most recent call last)",
        "\u001b[0;32m<ipython-input-12-56fe31d2e9b4>\u001b[0m in \u001b[0;36m<module>\u001b[0;34m()\u001b[0m\n\u001b[1;32m      1\u001b[0m result = delta_sigma(sample1, randoms, \n\u001b[1;32m      2\u001b[0m                      \u001b[0mrp_bins\u001b[0m\u001b[0;34m,\u001b[0m \u001b[0mpi_max\u001b[0m\u001b[0;34m,\u001b[0m \u001b[0mperiod\u001b[0m\u001b[0;34m=\u001b[0m\u001b[0mperiod\u001b[0m\u001b[0;34m,\u001b[0m\u001b[0;34m\u001b[0m\u001b[0m\n\u001b[0;32m----> 3\u001b[0;31m                      log_bins=True,n_bins=25, estimator='Natural', num_threads=1)\n\u001b[0m\u001b[1;32m      4\u001b[0m \u001b[0;34m\u001b[0m\u001b[0m\n",
        "\u001b[0;32m/Users/aphearin/work/repositories/python/halotools/halotools/mock_observables/delta_sigma.py\u001b[0m in \u001b[0;36mdelta_sigma\u001b[0;34m(galaxies, particles, rp_bins, pi_max, period, log_bins, n_bins, estimator, num_threads)\u001b[0m\n\u001b[1;32m    116\u001b[0m     \u001b[0;31m#calculate the cross-correlation between galaxies and particles\u001b[0m\u001b[0;34m\u001b[0m\u001b[0;34m\u001b[0m\u001b[0m\n\u001b[1;32m    117\u001b[0m     xi = tpcf(galaxies, rbins, sample2=particles, randoms=None, period=period,\\\n\u001b[0;32m--> 118\u001b[0;31m               do_auto=False, do_cross=True, estimator=estimator, num_threads=num_threads)\n\u001b[0m\u001b[1;32m    119\u001b[0m \u001b[0;34m\u001b[0m\u001b[0m\n\u001b[1;32m    120\u001b[0m     \u001b[0;31m#Check to see if xi ever is equal to -1\u001b[0m\u001b[0;34m\u001b[0m\u001b[0;34m\u001b[0m\u001b[0m\n",
        "\u001b[0;32m/Users/aphearin/work/repositories/python/halotools/halotools/mock_observables/tpcf.py\u001b[0m in \u001b[0;36mtpcf\u001b[0;34m(sample1, rbins, sample2, randoms, period, do_auto, do_cross, estimator, num_threads, max_sample_size, approx_cell1_size, approx_cell2_size, approx_cellran_size)\u001b[0m\n\u001b[1;32m    270\u001b[0m     D1D1,D1D2,D2D2 = pair_counts(sample1, sample2, rbins, period,\n\u001b[1;32m    271\u001b[0m                                  \u001b[0mnum_threads\u001b[0m\u001b[0;34m,\u001b[0m \u001b[0mdo_auto\u001b[0m\u001b[0;34m,\u001b[0m \u001b[0mdo_cross\u001b[0m\u001b[0;34m,\u001b[0m \u001b[0m_sample1_is_sample2\u001b[0m\u001b[0;34m,\u001b[0m\u001b[0;34m\u001b[0m\u001b[0m\n\u001b[0;32m--> 272\u001b[0;31m                                  approx_cell1_size, approx_cell2_size)\n\u001b[0m\u001b[1;32m    273\u001b[0m     \u001b[0;31m#count random pairs\u001b[0m\u001b[0;34m\u001b[0m\u001b[0;34m\u001b[0m\u001b[0m\n\u001b[1;32m    274\u001b[0m     D1R, D2R, RR = random_counts(sample1, sample2, randoms, rbins, period,\n",
        "\u001b[0;32m/Users/aphearin/work/repositories/python/halotools/halotools/mock_observables/tpcf.py\u001b[0m in \u001b[0;36mpair_counts\u001b[0;34m(sample1, sample2, rbins, period, N_thread, do_auto, do_cross, _sample1_is_sample2, approx_cell1_size, approx_cell2_size)\u001b[0m\n\u001b[1;32m    237\u001b[0m                               \u001b[0mnum_threads\u001b[0m\u001b[0;34m=\u001b[0m\u001b[0mnum_threads\u001b[0m\u001b[0;34m,\u001b[0m\u001b[0;34m\u001b[0m\u001b[0m\n\u001b[1;32m    238\u001b[0m                               \u001b[0mapprox_cell1_size\u001b[0m\u001b[0;34m=\u001b[0m\u001b[0mapprox_cell1_size\u001b[0m\u001b[0;34m,\u001b[0m\u001b[0;34m\u001b[0m\u001b[0m\n\u001b[0;32m--> 239\u001b[0;31m                               approx_cell2_size=approx_cell2_size)\n\u001b[0m\u001b[1;32m    240\u001b[0m                 \u001b[0mD1D2\u001b[0m \u001b[0;34m=\u001b[0m \u001b[0mnp\u001b[0m\u001b[0;34m.\u001b[0m\u001b[0mdiff\u001b[0m\u001b[0;34m(\u001b[0m\u001b[0mD1D2\u001b[0m\u001b[0;34m)\u001b[0m\u001b[0;34m\u001b[0m\u001b[0m\n\u001b[1;32m    241\u001b[0m             \u001b[0;32melse\u001b[0m\u001b[0;34m:\u001b[0m \u001b[0mD1D2\u001b[0m\u001b[0;34m=\u001b[0m\u001b[0mNone\u001b[0m\u001b[0;34m\u001b[0m\u001b[0m\n",
        "\u001b[0;32m/Users/aphearin/work/repositories/python/halotools/halotools/mock_observables/pair_counters/double_tree_pairs.py\u001b[0m in \u001b[0;36mnpairs\u001b[0;34m(data1, data2, rbins, period, verbose, num_threads, approx_cell1_size, approx_cell2_size)\u001b[0m\n\u001b[1;32m    117\u001b[0m         \u001b[0mapprox_x1cell_size\u001b[0m\u001b[0;34m,\u001b[0m \u001b[0mapprox_y1cell_size\u001b[0m\u001b[0;34m,\u001b[0m \u001b[0mapprox_z1cell_size\u001b[0m\u001b[0;34m,\u001b[0m\u001b[0;34m\u001b[0m\u001b[0m\n\u001b[1;32m    118\u001b[0m         \u001b[0mapprox_x2cell_size\u001b[0m\u001b[0;34m,\u001b[0m \u001b[0mapprox_y2cell_size\u001b[0m\u001b[0;34m,\u001b[0m \u001b[0mapprox_z2cell_size\u001b[0m\u001b[0;34m,\u001b[0m\u001b[0;34m\u001b[0m\u001b[0m\n\u001b[0;32m--> 119\u001b[0;31m         rmax, rmax, rmax, xperiod, yperiod, zperiod, PBCs=PBCs)\n\u001b[0m\u001b[1;32m    120\u001b[0m \u001b[0;34m\u001b[0m\u001b[0m\n\u001b[1;32m    121\u001b[0m     \u001b[0;31m#square radial bins to make distance calculation cheaper\u001b[0m\u001b[0;34m\u001b[0m\u001b[0;34m\u001b[0m\u001b[0m\n",
        "\u001b[0;32m/Users/aphearin/work/repositories/python/halotools/halotools/mock_observables/pair_counters/double_tree.py\u001b[0m in \u001b[0;36m__init__\u001b[0;34m(self, x1, y1, z1, x2, y2, z2, approx_x1cell_size, approx_y1cell_size, approx_z1cell_size, approx_x2cell_size, approx_y2cell_size, approx_z2cell_size, search_xlength, search_ylength, search_zlength, xperiod, yperiod, zperiod, PBCs)\u001b[0m\n\u001b[1;32m    182\u001b[0m         self.tree1 = FlatRectanguloidTree(x1, y1, z1, \n\u001b[1;32m    183\u001b[0m             \u001b[0mmodified_x1_cellsize\u001b[0m\u001b[0;34m,\u001b[0m \u001b[0mmodified_y1_cellsize\u001b[0m\u001b[0;34m,\u001b[0m \u001b[0mmodified_z1_cellsize\u001b[0m\u001b[0;34m,\u001b[0m\u001b[0;34m\u001b[0m\u001b[0m\n\u001b[0;32m--> 184\u001b[0;31m             xperiod, yperiod, zperiod)\n\u001b[0m\u001b[1;32m    185\u001b[0m \u001b[0;34m\u001b[0m\u001b[0m\n\u001b[1;32m    186\u001b[0m         \u001b[0;31m# Define a few convenient pointers\u001b[0m\u001b[0;34m\u001b[0m\u001b[0;34m\u001b[0m\u001b[0m\n",
        "\u001b[0;32m/Users/aphearin/work/repositories/python/halotools/halotools/mock_observables/pair_counters/double_tree.py\u001b[0m in \u001b[0;36m__init__\u001b[0;34m(self, x, y, z, approx_xcell_size, approx_ycell_size, approx_zcell_size, xperiod, yperiod, zperiod)\u001b[0m\n\u001b[1;32m     67\u001b[0m \u001b[0;34m\u001b[0m\u001b[0m\n\u001b[1;32m     68\u001b[0m         \u001b[0;31m# Build the tree\u001b[0m\u001b[0;34m\u001b[0m\u001b[0;34m\u001b[0m\u001b[0m\n\u001b[0;32m---> 69\u001b[0;31m         \u001b[0midx_sorted\u001b[0m\u001b[0;34m,\u001b[0m \u001b[0mslice_array\u001b[0m \u001b[0;34m=\u001b[0m \u001b[0mself\u001b[0m\u001b[0;34m.\u001b[0m\u001b[0mcompute_cell_structure\u001b[0m\u001b[0;34m(\u001b[0m\u001b[0mx\u001b[0m\u001b[0;34m,\u001b[0m \u001b[0my\u001b[0m\u001b[0;34m,\u001b[0m \u001b[0mz\u001b[0m\u001b[0;34m)\u001b[0m\u001b[0;34m\u001b[0m\u001b[0m\n\u001b[0m\u001b[1;32m     70\u001b[0m         \u001b[0mself\u001b[0m\u001b[0;34m.\u001b[0m\u001b[0mx\u001b[0m \u001b[0;34m=\u001b[0m \u001b[0mnp\u001b[0m\u001b[0;34m.\u001b[0m\u001b[0mascontiguousarray\u001b[0m\u001b[0;34m(\u001b[0m\u001b[0mx\u001b[0m\u001b[0;34m[\u001b[0m\u001b[0midx_sorted\u001b[0m\u001b[0;34m]\u001b[0m\u001b[0;34m,\u001b[0m \u001b[0mdtype\u001b[0m\u001b[0;34m=\u001b[0m\u001b[0mnp\u001b[0m\u001b[0;34m.\u001b[0m\u001b[0mfloat64\u001b[0m\u001b[0;34m)\u001b[0m\u001b[0;34m\u001b[0m\u001b[0m\n\u001b[1;32m     71\u001b[0m         \u001b[0mself\u001b[0m\u001b[0;34m.\u001b[0m\u001b[0my\u001b[0m \u001b[0;34m=\u001b[0m \u001b[0mnp\u001b[0m\u001b[0;34m.\u001b[0m\u001b[0mascontiguousarray\u001b[0m\u001b[0;34m(\u001b[0m\u001b[0my\u001b[0m\u001b[0;34m[\u001b[0m\u001b[0midx_sorted\u001b[0m\u001b[0;34m]\u001b[0m\u001b[0;34m,\u001b[0m \u001b[0mdtype\u001b[0m\u001b[0;34m=\u001b[0m\u001b[0mnp\u001b[0m\u001b[0;34m.\u001b[0m\u001b[0mfloat64\u001b[0m\u001b[0;34m)\u001b[0m\u001b[0;34m\u001b[0m\u001b[0m\n",
        "\u001b[0;32m/Users/aphearin/work/repositories/python/halotools/halotools/mock_observables/pair_counters/double_tree.py\u001b[0m in \u001b[0;36mcompute_cell_structure\u001b[0;34m(self, x, y, z)\u001b[0m\n\u001b[1;32m    117\u001b[0m         \"\"\"\n\u001b[1;32m    118\u001b[0m \u001b[0;34m\u001b[0m\u001b[0m\n\u001b[0;32m--> 119\u001b[0;31m         \u001b[0mix\u001b[0m \u001b[0;34m=\u001b[0m \u001b[0mnp\u001b[0m\u001b[0;34m.\u001b[0m\u001b[0mfloor\u001b[0m\u001b[0;34m(\u001b[0m\u001b[0mx\u001b[0m\u001b[0;34m/\u001b[0m\u001b[0mself\u001b[0m\u001b[0;34m.\u001b[0m\u001b[0mxcell_size\u001b[0m\u001b[0;34m)\u001b[0m\u001b[0;34m.\u001b[0m\u001b[0mastype\u001b[0m\u001b[0;34m(\u001b[0m\u001b[0mint\u001b[0m\u001b[0;34m)\u001b[0m\u001b[0;34m\u001b[0m\u001b[0m\n\u001b[0m\u001b[1;32m    120\u001b[0m         \u001b[0miy\u001b[0m \u001b[0;34m=\u001b[0m \u001b[0mnp\u001b[0m\u001b[0;34m.\u001b[0m\u001b[0mfloor\u001b[0m\u001b[0;34m(\u001b[0m\u001b[0my\u001b[0m\u001b[0;34m/\u001b[0m\u001b[0mself\u001b[0m\u001b[0;34m.\u001b[0m\u001b[0mycell_size\u001b[0m\u001b[0;34m)\u001b[0m\u001b[0;34m.\u001b[0m\u001b[0mastype\u001b[0m\u001b[0;34m(\u001b[0m\u001b[0mint\u001b[0m\u001b[0;34m)\u001b[0m\u001b[0;34m\u001b[0m\u001b[0m\n\u001b[1;32m    121\u001b[0m         \u001b[0miz\u001b[0m \u001b[0;34m=\u001b[0m \u001b[0mnp\u001b[0m\u001b[0;34m.\u001b[0m\u001b[0mfloor\u001b[0m\u001b[0;34m(\u001b[0m\u001b[0mz\u001b[0m\u001b[0;34m/\u001b[0m\u001b[0mself\u001b[0m\u001b[0;34m.\u001b[0m\u001b[0mzcell_size\u001b[0m\u001b[0;34m)\u001b[0m\u001b[0;34m.\u001b[0m\u001b[0mastype\u001b[0m\u001b[0;34m(\u001b[0m\u001b[0mint\u001b[0m\u001b[0;34m)\u001b[0m\u001b[0;34m\u001b[0m\u001b[0m\n",
        "\u001b[0;31mAttributeError\u001b[0m: 'float' object has no attribute 'floor'"
       ]
      }
     ],
     "prompt_number": 12
    },
    {
     "cell_type": "code",
     "collapsed": false,
     "input": [
      "from halotools.utils import convert_to_ndarray"
     ],
     "language": "python",
     "metadata": {},
     "outputs": [],
     "prompt_number": 6
    },
    {
     "cell_type": "code",
     "collapsed": false,
     "input": [
      "x = convert_to_ndarray(5.)"
     ],
     "language": "python",
     "metadata": {},
     "outputs": [],
     "prompt_number": 7
    },
    {
     "cell_type": "code",
     "collapsed": false,
     "input": [
      "type(x[0])"
     ],
     "language": "python",
     "metadata": {},
     "outputs": [
      {
       "metadata": {},
       "output_type": "pyout",
       "prompt_number": 8,
       "text": [
        "numpy.float64"
       ]
      }
     ],
     "prompt_number": 8
    },
    {
     "cell_type": "code",
     "collapsed": false,
     "input": [
      "type(5.)"
     ],
     "language": "python",
     "metadata": {},
     "outputs": [
      {
       "metadata": {},
       "output_type": "pyout",
       "prompt_number": 9,
       "text": [
        "float"
       ]
      }
     ],
     "prompt_number": 9
    },
    {
     "cell_type": "code",
     "collapsed": false,
     "input": [],
     "language": "python",
     "metadata": {},
     "outputs": [],
     "prompt_number": 9
    },
    {
     "cell_type": "code",
     "collapsed": false,
     "input": [],
     "language": "python",
     "metadata": {},
     "outputs": [],
     "prompt_number": 9
    },
    {
     "cell_type": "code",
     "collapsed": false,
     "input": [],
     "language": "python",
     "metadata": {},
     "outputs": [],
     "prompt_number": 9
    },
    {
     "cell_type": "code",
     "collapsed": false,
     "input": [],
     "language": "python",
     "metadata": {},
     "outputs": []
    }
   ],
   "metadata": {}
  }
 ]
}