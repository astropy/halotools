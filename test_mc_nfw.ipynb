{
 "metadata": {
  "name": "",
  "signature": "sha256:7f1250f98d6ca223289fe7def67526adae1a11e82270dcd41a0689bf4069e470"
 },
 "nbformat": 3,
 "nbformat_minor": 0,
 "worksheets": [
  {
   "cells": [
    {
     "cell_type": "code",
     "collapsed": false,
     "input": [
      "%matplotlib inline\n",
      "from halotools.empirical_models.phase_space_models.profile_models import NFWProfile\n",
      "model = NFWProfile()"
     ],
     "language": "python",
     "metadata": {},
     "outputs": [],
     "prompt_number": 30
    },
    {
     "cell_type": "code",
     "collapsed": false,
     "input": [
      "halo_radius = 0.5\n",
      "num_pts = 1e7\n",
      "num_rbins = 50\n",
      "rbins = np.linspace(0, 1, num_rbins)\n",
      "rbin_midpoints = 0.5*(rbins[:-1] + rbins[1:])"
     ],
     "language": "python",
     "metadata": {},
     "outputs": [],
     "prompt_number": 31
    },
    {
     "cell_type": "code",
     "collapsed": false,
     "input": [
      "result_c5 = model.mc_generate_radial_positions(halo_radius = halo_radius, \n",
      "                                               conc = 5, num_pts = num_pts)\n",
      "counts_c5 = np.histogram(result_c5/halo_radius, bins = rbins)[0]"
     ],
     "language": "python",
     "metadata": {},
     "outputs": [],
     "prompt_number": 32
    },
    {
     "cell_type": "code",
     "collapsed": false,
     "input": [
      "def monte_carlo_result(counts):\n",
      "    return counts/float(counts[-1])"
     ],
     "language": "python",
     "metadata": {},
     "outputs": [],
     "prompt_number": 46
    },
    {
     "cell_type": "code",
     "collapsed": false,
     "input": [
      "def analytic_result(radii, conc):\n",
      "    outer_radius = radii[-1]\n",
      "    numerator = radii*(1 + conc*outer_radius)**2\n",
      "    denominator = outer_radius*(1 + conc*radii)**2\n",
      "    return numerator/denominator"
     ],
     "language": "python",
     "metadata": {},
     "outputs": [],
     "prompt_number": 47
    },
    {
     "cell_type": "code",
     "collapsed": false,
     "input": [
      "y1 = analytic_result(rbin_midpoints, 5)\n",
      "y2 = monte_carlo_result(counts_c5)\n",
      "\n",
      "plt.plot(rbin_midpoints, y1, \n",
      "         color='blue', label='Analytic Result', linewidth=2)\n",
      "plt.plot(rbin_midpoints, y2, '--', \n",
      "         color='red', label='Monte Carlo Result', linewidth=2)\n",
      "\n",
      "plt.xlim(xmin = 0, xmax = rbins[-1])\n",
      "plt.ylim(ymin = 0, ymax = 2)\n",
      "\n",
      "plt.xlabel(r'$r / R_{\\rm vir}$', fontsize=20)\n",
      "plt.ylabel('dimensionless density', fontsize=15)\n",
      "plt.legend(loc = 'best', frameon=False, fontsize=15)\n",
      "\n",
      "plt.savefig('monte_carlo_comparison.pdf')"
     ],
     "language": "python",
     "metadata": {},
     "outputs": [
      {
       "metadata": {},
       "output_type": "display_data",
       "png": "[encoded data removed]",
       "text": [
        "<matplotlib.figure.Figure at 0x109e4b090>"
       ]
      }
     ],
     "prompt_number": 52
    },
    {
     "cell_type": "code",
     "collapsed": false,
     "input": [
      "rbins = np.linspace(0, 1, num_rbins)\n",
      "rbin_midpoints = 0.5*(rbins[:-1] + rbins[1:])\n",
      "for i in range(len(rbin_midpoints)):\n",
      "    print(\"%i, %.2f, %.2f, %.2f\" % (i, rbins[i], rbin_midpoints[i], rbins[i+1]))"
     ],
     "language": "python",
     "metadata": {},
     "outputs": [
      {
       "output_type": "stream",
       "stream": "stdout",
       "text": [
        "0, 0.00, 0.01, 0.02\n",
        "1, 0.02, 0.03, 0.04\n",
        "2, 0.04, 0.05, 0.06\n",
        "3, 0.06, 0.07, 0.08\n",
        "4, 0.08, 0.09, 0.10\n",
        "5, 0.10, 0.11, 0.12\n",
        "6, 0.12, 0.13, 0.14\n",
        "7, 0.14, 0.15, 0.16\n",
        "8, 0.16, 0.17, 0.18\n",
        "9, 0.18, 0.19, 0.20\n",
        "10, 0.20, 0.21, 0.22\n",
        "11, 0.22, 0.23, 0.24\n",
        "12, 0.24, 0.26, 0.27\n",
        "13, 0.27, 0.28, 0.29\n",
        "14, 0.29, 0.30, 0.31\n",
        "15, 0.31, 0.32, 0.33\n",
        "16, 0.33, 0.34, 0.35\n",
        "17, 0.35, 0.36, 0.37\n",
        "18, 0.37, 0.38, 0.39\n",
        "19, 0.39, 0.40, 0.41\n",
        "20, 0.41, 0.42, 0.43\n",
        "21, 0.43, 0.44, 0.45\n",
        "22, 0.45, 0.46, 0.47\n",
        "23, 0.47, 0.48, 0.49\n",
        "24, 0.49, 0.50, 0.51\n",
        "25, 0.51, 0.52, 0.53\n",
        "26, 0.53, 0.54, 0.55\n",
        "27, 0.55, 0.56, 0.57\n",
        "28, 0.57, 0.58, 0.59\n",
        "29, 0.59, 0.60, 0.61\n",
        "30, 0.61, 0.62, 0.63\n",
        "31, 0.63, 0.64, 0.65\n",
        "32, 0.65, 0.66, 0.67\n",
        "33, 0.67, 0.68, 0.69\n",
        "34, 0.69, 0.70, 0.71\n",
        "35, 0.71, 0.72, 0.73\n",
        "36, 0.73, 0.74, 0.76\n",
        "37, 0.76, 0.77, 0.78\n",
        "38, 0.78, 0.79, 0.80\n",
        "39, 0.80, 0.81, 0.82\n",
        "40, 0.82, 0.83, 0.84\n",
        "41, 0.84, 0.85, 0.86\n",
        "42, 0.86, 0.87, 0.88\n",
        "43, 0.88, 0.89, 0.90\n",
        "44, 0.90, 0.91, 0.92\n",
        "45, 0.92, 0.93, 0.94\n",
        "46, 0.94, 0.95, 0.96\n",
        "47, 0.96, 0.97, 0.98\n",
        "48, 0.98, 0.99, 1.00\n"
       ]
      }
     ],
     "prompt_number": 35
    },
    {
     "cell_type": "code",
     "collapsed": false,
     "input": [
      "(y2-y1)/y1"
     ],
     "language": "python",
     "metadata": {},
     "outputs": [
      {
       "metadata": {},
       "output_type": "pyout",
       "prompt_number": 54,
       "text": [
        "array([ -3.52160244e-02,  -7.54646119e-03,  -1.18500188e-03,\n",
        "         7.10858555e-04,  -2.55455055e-03,  -3.96054026e-03,\n",
        "        -1.50560565e-03,  -2.06222642e-03,   4.04848433e-04,\n",
        "        -3.67801485e-03,   2.24576945e-03,  -1.35457590e-03,\n",
        "         1.51596356e-03,   1.28159495e-03,   1.07270128e-03,\n",
        "        -1.81988319e-03,  -3.31783458e-03,  -1.46672144e-03,\n",
        "         5.50905896e-03,   3.09661162e-04,   1.23642075e-03,\n",
        "        -7.24330834e-04,  -9.99092541e-04,   4.64911324e-04,\n",
        "         9.91878678e-04,   7.05225678e-04,   5.07385300e-04,\n",
        "        -4.66545377e-03,   4.29767675e-03,  -1.10787041e-03,\n",
        "        -7.52787487e-05,   1.62973101e-03,  -4.61216651e-03,\n",
        "        -3.53323129e-03,   2.85609169e-03,  -1.46096877e-03,\n",
        "         5.04167611e-04,   3.09893539e-04,   1.02289271e-03,\n",
        "        -8.80372398e-04,  -3.65816572e-03,  -2.78368678e-03,\n",
        "        -1.67202852e-03,  -1.02642802e-03,  -1.76127536e-04,\n",
        "         1.14351943e-04,  -1.79969796e-03,  -1.03821180e-03,\n",
        "         0.00000000e+00])"
       ]
      }
     ],
     "prompt_number": 54
    },
    {
     "cell_type": "code",
     "collapsed": false,
     "input": [],
     "language": "python",
     "metadata": {},
     "outputs": [],
     "prompt_number": 50
    },
    {
     "cell_type": "code",
     "collapsed": false,
     "input": [],
     "language": "python",
     "metadata": {},
     "outputs": [],
     "prompt_number": 50
    },
    {
     "cell_type": "code",
     "collapsed": false,
     "input": [],
     "language": "python",
     "metadata": {},
     "outputs": []
    }
   ],
   "metadata": {}
  }
 ]
}