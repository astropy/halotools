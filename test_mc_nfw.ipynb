{
 "metadata": {
  "name": "",
  "signature": "sha256:d0b94341c29776b63c4e08ba507e740d4c61b03557f714675123322662d0a7ed"
 },
 "nbformat": 3,
 "nbformat_minor": 0,
 "worksheets": []
}